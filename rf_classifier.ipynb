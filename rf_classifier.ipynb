{
  "nbformat": 4,
  "nbformat_minor": 0,
  "metadata": {
    "kernelspec": {
      "display_name": "Python 3",
      "language": "python",
      "name": "python3"
    },
    "language_info": {
      "codemirror_mode": {
        "name": "ipython",
        "version": 3
      },
      "file_extension": ".py",
      "mimetype": "text/x-python",
      "name": "python",
      "nbconvert_exporter": "python",
      "pygments_lexer": "ipython3",
      "version": "3.7.9"
    },
    "toc": {
      "base_numbering": 1,
      "nav_menu": {},
      "number_sections": true,
      "sideBar": true,
      "skip_h1_title": false,
      "title_cell": "Table of Contents",
      "title_sidebar": "Contents",
      "toc_cell": false,
      "toc_position": {
        "height": "calc(100% - 180px)",
        "left": "10px",
        "top": "150px",
        "width": "235px"
      },
      "toc_section_display": true,
      "toc_window_display": true
    },
    "colab": {
      "name": "rf_classifier.ipynb",
      "provenance": [],
      "collapsed_sections": [
        "sGZIrx6fMu7I",
        "g_2hIIlgMu7X",
        "PoCwY6x7Mu7Z"
      ],
      "toc_visible": true
    },
    "accelerator": "TPU"
  },
  "cells": [
    {
      "cell_type": "markdown",
      "metadata": {
        "id": "nZdethPQMu61"
      },
      "source": [
        "# Introduction"
      ]
    },
    {
      "cell_type": "markdown",
      "metadata": {
        "id": "NIpEd9QcMu6-"
      },
      "source": [
        "Fortunately, with libraries such as Scikit-Learn, it’s now easy to build and use almost any machine learning algorithm. But it’s helpful to have an idea of how a machine learning model works under the hood. This lets us diagnose the model when it’s underperforming or explain how it makes decisions, which is crucial if we want to convince others to trust our models.\n",
        "In this assignment, we’ll look at how to build and use the Decision Tree and the Random Forest in Python. We’ll start by understanding how a single decision tree makes classifications on a simple problem. Then, we’ll work our way to using a random forest on a real-world data science problem."
      ]
    },
    {
      "cell_type": "markdown",
      "metadata": {
        "id": "hXADNDQwMu7B"
      },
      "source": [
        "# Dataset"
      ]
    },
    {
      "cell_type": "markdown",
      "metadata": {
        "id": "HbB_3-6WMu7B"
      },
      "source": [
        "The dataset we will use in this assignment is the Sonar dataset.\n",
        "\n",
        "This is a dataset that describes sonar chirp returns bouncing off different surfaces. The 60 predictors are the strength of the returns at different angles. It is a binary classification problem that requires a model to differentiate rocks from metal cylinders. There are 208 observations.\n",
        "\n",
        "It is a well-understood dataset. All of the variables are continuous and generally in the range of 0 to 1. The output variable is a string “M” for mine and “R” for rock, which will need to be converted to integers 1 and 0.\n",
        "\n",
        "By predicting the class with the most observations in the dataset (M or mines) the Zero Rule Algorithm can achieve an accuracy of 53%.\n",
        "\n",
        "You can learn more about this dataset at the UCI Machine Learning repository.\n",
        "https://archive.ics.uci.edu/ml/datasets/Connectionist+Bench+(Sonar,+Mines+vs.+Rocks)\n",
        "\n",
        "Download the dataset for free and place it in the \"data\" folder in your working directory with the filename sonar.all-data.csv."
      ]
    },
    {
      "cell_type": "markdown",
      "metadata": {
        "id": "AI9Z4yPQMu7C"
      },
      "source": [
        "# Import section"
      ]
    },
    {
      "cell_type": "code",
      "metadata": {
        "ExecuteTime": {
          "end_time": "2020-12-01T08:48:35.022113Z",
          "start_time": "2020-12-01T08:48:34.335814Z"
        },
        "id": "rkbHOpEJMu7C"
      },
      "source": [
        "import random\n",
        "import numpy as np\n",
        "import pandas as pd\n",
        "from sklearn.model_selection import train_test_split\n",
        "from sklearn.metrics import accuracy_score\n",
        "\n",
        "np.random.seed(2020)\n",
        "random.seed(2020)"
      ],
      "execution_count": 1,
      "outputs": []
    },
    {
      "cell_type": "markdown",
      "metadata": {
        "id": "KrHqJKtwMu7D"
      },
      "source": [
        "# Preprocess data"
      ]
    },
    {
      "cell_type": "markdown",
      "metadata": {
        "id": "9NpameHaMu7D"
      },
      "source": [
        "Read data and convert targets to integers 1 and 0."
      ]
    },
    {
      "cell_type": "code",
      "metadata": {
        "ExecuteTime": {
          "end_time": "2020-12-01T08:48:35.618412Z",
          "start_time": "2020-12-01T08:48:35.579547Z"
        },
        "colab": {
          "base_uri": "https://localhost:8080/",
          "height": 224
        },
        "id": "fElUEVYaMu7D",
        "outputId": "baedfedd-8ae0-4986-b869-c5650a94f9fc"
      },
      "source": [
        "df = pd.read_csv('https://raw.githubusercontent.com/rolling-scopes-school/ml-intro/2021/6_trees%20and%20ensembles/data/sonar-all-data.csv', header=None)\n",
        "df.columns = [f'feat_{col}' if col!=60 else 'target' for col in df.columns]\n",
        "df['target'] = df['target'].map({'M': 1, 'R': 0})\n",
        "df.head()"
      ],
      "execution_count": 2,
      "outputs": [
        {
          "output_type": "execute_result",
          "data": {
            "text/html": [
              "<div>\n",
              "<style scoped>\n",
              "    .dataframe tbody tr th:only-of-type {\n",
              "        vertical-align: middle;\n",
              "    }\n",
              "\n",
              "    .dataframe tbody tr th {\n",
              "        vertical-align: top;\n",
              "    }\n",
              "\n",
              "    .dataframe thead th {\n",
              "        text-align: right;\n",
              "    }\n",
              "</style>\n",
              "<table border=\"1\" class=\"dataframe\">\n",
              "  <thead>\n",
              "    <tr style=\"text-align: right;\">\n",
              "      <th></th>\n",
              "      <th>feat_0</th>\n",
              "      <th>feat_1</th>\n",
              "      <th>feat_2</th>\n",
              "      <th>feat_3</th>\n",
              "      <th>feat_4</th>\n",
              "      <th>feat_5</th>\n",
              "      <th>feat_6</th>\n",
              "      <th>feat_7</th>\n",
              "      <th>feat_8</th>\n",
              "      <th>feat_9</th>\n",
              "      <th>feat_10</th>\n",
              "      <th>feat_11</th>\n",
              "      <th>feat_12</th>\n",
              "      <th>feat_13</th>\n",
              "      <th>feat_14</th>\n",
              "      <th>feat_15</th>\n",
              "      <th>feat_16</th>\n",
              "      <th>feat_17</th>\n",
              "      <th>feat_18</th>\n",
              "      <th>feat_19</th>\n",
              "      <th>feat_20</th>\n",
              "      <th>feat_21</th>\n",
              "      <th>feat_22</th>\n",
              "      <th>feat_23</th>\n",
              "      <th>feat_24</th>\n",
              "      <th>feat_25</th>\n",
              "      <th>feat_26</th>\n",
              "      <th>feat_27</th>\n",
              "      <th>feat_28</th>\n",
              "      <th>feat_29</th>\n",
              "      <th>feat_30</th>\n",
              "      <th>feat_31</th>\n",
              "      <th>feat_32</th>\n",
              "      <th>feat_33</th>\n",
              "      <th>feat_34</th>\n",
              "      <th>feat_35</th>\n",
              "      <th>feat_36</th>\n",
              "      <th>feat_37</th>\n",
              "      <th>feat_38</th>\n",
              "      <th>feat_39</th>\n",
              "      <th>feat_40</th>\n",
              "      <th>feat_41</th>\n",
              "      <th>feat_42</th>\n",
              "      <th>feat_43</th>\n",
              "      <th>feat_44</th>\n",
              "      <th>feat_45</th>\n",
              "      <th>feat_46</th>\n",
              "      <th>feat_47</th>\n",
              "      <th>feat_48</th>\n",
              "      <th>feat_49</th>\n",
              "      <th>feat_50</th>\n",
              "      <th>feat_51</th>\n",
              "      <th>feat_52</th>\n",
              "      <th>feat_53</th>\n",
              "      <th>feat_54</th>\n",
              "      <th>feat_55</th>\n",
              "      <th>feat_56</th>\n",
              "      <th>feat_57</th>\n",
              "      <th>feat_58</th>\n",
              "      <th>feat_59</th>\n",
              "      <th>target</th>\n",
              "    </tr>\n",
              "  </thead>\n",
              "  <tbody>\n",
              "    <tr>\n",
              "      <th>0</th>\n",
              "      <td>0.0200</td>\n",
              "      <td>0.0371</td>\n",
              "      <td>0.0428</td>\n",
              "      <td>0.0207</td>\n",
              "      <td>0.0954</td>\n",
              "      <td>0.0986</td>\n",
              "      <td>0.1539</td>\n",
              "      <td>0.1601</td>\n",
              "      <td>0.3109</td>\n",
              "      <td>0.2111</td>\n",
              "      <td>0.1609</td>\n",
              "      <td>0.1582</td>\n",
              "      <td>0.2238</td>\n",
              "      <td>0.0645</td>\n",
              "      <td>0.0660</td>\n",
              "      <td>0.2273</td>\n",
              "      <td>0.3100</td>\n",
              "      <td>0.2999</td>\n",
              "      <td>0.5078</td>\n",
              "      <td>0.4797</td>\n",
              "      <td>0.5783</td>\n",
              "      <td>0.5071</td>\n",
              "      <td>0.4328</td>\n",
              "      <td>0.5550</td>\n",
              "      <td>0.6711</td>\n",
              "      <td>0.6415</td>\n",
              "      <td>0.7104</td>\n",
              "      <td>0.8080</td>\n",
              "      <td>0.6791</td>\n",
              "      <td>0.3857</td>\n",
              "      <td>0.1307</td>\n",
              "      <td>0.2604</td>\n",
              "      <td>0.5121</td>\n",
              "      <td>0.7547</td>\n",
              "      <td>0.8537</td>\n",
              "      <td>0.8507</td>\n",
              "      <td>0.6692</td>\n",
              "      <td>0.6097</td>\n",
              "      <td>0.4943</td>\n",
              "      <td>0.2744</td>\n",
              "      <td>0.0510</td>\n",
              "      <td>0.2834</td>\n",
              "      <td>0.2825</td>\n",
              "      <td>0.4256</td>\n",
              "      <td>0.2641</td>\n",
              "      <td>0.1386</td>\n",
              "      <td>0.1051</td>\n",
              "      <td>0.1343</td>\n",
              "      <td>0.0383</td>\n",
              "      <td>0.0324</td>\n",
              "      <td>0.0232</td>\n",
              "      <td>0.0027</td>\n",
              "      <td>0.0065</td>\n",
              "      <td>0.0159</td>\n",
              "      <td>0.0072</td>\n",
              "      <td>0.0167</td>\n",
              "      <td>0.0180</td>\n",
              "      <td>0.0084</td>\n",
              "      <td>0.0090</td>\n",
              "      <td>0.0032</td>\n",
              "      <td>0</td>\n",
              "    </tr>\n",
              "    <tr>\n",
              "      <th>1</th>\n",
              "      <td>0.0453</td>\n",
              "      <td>0.0523</td>\n",
              "      <td>0.0843</td>\n",
              "      <td>0.0689</td>\n",
              "      <td>0.1183</td>\n",
              "      <td>0.2583</td>\n",
              "      <td>0.2156</td>\n",
              "      <td>0.3481</td>\n",
              "      <td>0.3337</td>\n",
              "      <td>0.2872</td>\n",
              "      <td>0.4918</td>\n",
              "      <td>0.6552</td>\n",
              "      <td>0.6919</td>\n",
              "      <td>0.7797</td>\n",
              "      <td>0.7464</td>\n",
              "      <td>0.9444</td>\n",
              "      <td>1.0000</td>\n",
              "      <td>0.8874</td>\n",
              "      <td>0.8024</td>\n",
              "      <td>0.7818</td>\n",
              "      <td>0.5212</td>\n",
              "      <td>0.4052</td>\n",
              "      <td>0.3957</td>\n",
              "      <td>0.3914</td>\n",
              "      <td>0.3250</td>\n",
              "      <td>0.3200</td>\n",
              "      <td>0.3271</td>\n",
              "      <td>0.2767</td>\n",
              "      <td>0.4423</td>\n",
              "      <td>0.2028</td>\n",
              "      <td>0.3788</td>\n",
              "      <td>0.2947</td>\n",
              "      <td>0.1984</td>\n",
              "      <td>0.2341</td>\n",
              "      <td>0.1306</td>\n",
              "      <td>0.4182</td>\n",
              "      <td>0.3835</td>\n",
              "      <td>0.1057</td>\n",
              "      <td>0.1840</td>\n",
              "      <td>0.1970</td>\n",
              "      <td>0.1674</td>\n",
              "      <td>0.0583</td>\n",
              "      <td>0.1401</td>\n",
              "      <td>0.1628</td>\n",
              "      <td>0.0621</td>\n",
              "      <td>0.0203</td>\n",
              "      <td>0.0530</td>\n",
              "      <td>0.0742</td>\n",
              "      <td>0.0409</td>\n",
              "      <td>0.0061</td>\n",
              "      <td>0.0125</td>\n",
              "      <td>0.0084</td>\n",
              "      <td>0.0089</td>\n",
              "      <td>0.0048</td>\n",
              "      <td>0.0094</td>\n",
              "      <td>0.0191</td>\n",
              "      <td>0.0140</td>\n",
              "      <td>0.0049</td>\n",
              "      <td>0.0052</td>\n",
              "      <td>0.0044</td>\n",
              "      <td>0</td>\n",
              "    </tr>\n",
              "    <tr>\n",
              "      <th>2</th>\n",
              "      <td>0.0262</td>\n",
              "      <td>0.0582</td>\n",
              "      <td>0.1099</td>\n",
              "      <td>0.1083</td>\n",
              "      <td>0.0974</td>\n",
              "      <td>0.2280</td>\n",
              "      <td>0.2431</td>\n",
              "      <td>0.3771</td>\n",
              "      <td>0.5598</td>\n",
              "      <td>0.6194</td>\n",
              "      <td>0.6333</td>\n",
              "      <td>0.7060</td>\n",
              "      <td>0.5544</td>\n",
              "      <td>0.5320</td>\n",
              "      <td>0.6479</td>\n",
              "      <td>0.6931</td>\n",
              "      <td>0.6759</td>\n",
              "      <td>0.7551</td>\n",
              "      <td>0.8929</td>\n",
              "      <td>0.8619</td>\n",
              "      <td>0.7974</td>\n",
              "      <td>0.6737</td>\n",
              "      <td>0.4293</td>\n",
              "      <td>0.3648</td>\n",
              "      <td>0.5331</td>\n",
              "      <td>0.2413</td>\n",
              "      <td>0.5070</td>\n",
              "      <td>0.8533</td>\n",
              "      <td>0.6036</td>\n",
              "      <td>0.8514</td>\n",
              "      <td>0.8512</td>\n",
              "      <td>0.5045</td>\n",
              "      <td>0.1862</td>\n",
              "      <td>0.2709</td>\n",
              "      <td>0.4232</td>\n",
              "      <td>0.3043</td>\n",
              "      <td>0.6116</td>\n",
              "      <td>0.6756</td>\n",
              "      <td>0.5375</td>\n",
              "      <td>0.4719</td>\n",
              "      <td>0.4647</td>\n",
              "      <td>0.2587</td>\n",
              "      <td>0.2129</td>\n",
              "      <td>0.2222</td>\n",
              "      <td>0.2111</td>\n",
              "      <td>0.0176</td>\n",
              "      <td>0.1348</td>\n",
              "      <td>0.0744</td>\n",
              "      <td>0.0130</td>\n",
              "      <td>0.0106</td>\n",
              "      <td>0.0033</td>\n",
              "      <td>0.0232</td>\n",
              "      <td>0.0166</td>\n",
              "      <td>0.0095</td>\n",
              "      <td>0.0180</td>\n",
              "      <td>0.0244</td>\n",
              "      <td>0.0316</td>\n",
              "      <td>0.0164</td>\n",
              "      <td>0.0095</td>\n",
              "      <td>0.0078</td>\n",
              "      <td>0</td>\n",
              "    </tr>\n",
              "    <tr>\n",
              "      <th>3</th>\n",
              "      <td>0.0100</td>\n",
              "      <td>0.0171</td>\n",
              "      <td>0.0623</td>\n",
              "      <td>0.0205</td>\n",
              "      <td>0.0205</td>\n",
              "      <td>0.0368</td>\n",
              "      <td>0.1098</td>\n",
              "      <td>0.1276</td>\n",
              "      <td>0.0598</td>\n",
              "      <td>0.1264</td>\n",
              "      <td>0.0881</td>\n",
              "      <td>0.1992</td>\n",
              "      <td>0.0184</td>\n",
              "      <td>0.2261</td>\n",
              "      <td>0.1729</td>\n",
              "      <td>0.2131</td>\n",
              "      <td>0.0693</td>\n",
              "      <td>0.2281</td>\n",
              "      <td>0.4060</td>\n",
              "      <td>0.3973</td>\n",
              "      <td>0.2741</td>\n",
              "      <td>0.3690</td>\n",
              "      <td>0.5556</td>\n",
              "      <td>0.4846</td>\n",
              "      <td>0.3140</td>\n",
              "      <td>0.5334</td>\n",
              "      <td>0.5256</td>\n",
              "      <td>0.2520</td>\n",
              "      <td>0.2090</td>\n",
              "      <td>0.3559</td>\n",
              "      <td>0.6260</td>\n",
              "      <td>0.7340</td>\n",
              "      <td>0.6120</td>\n",
              "      <td>0.3497</td>\n",
              "      <td>0.3953</td>\n",
              "      <td>0.3012</td>\n",
              "      <td>0.5408</td>\n",
              "      <td>0.8814</td>\n",
              "      <td>0.9857</td>\n",
              "      <td>0.9167</td>\n",
              "      <td>0.6121</td>\n",
              "      <td>0.5006</td>\n",
              "      <td>0.3210</td>\n",
              "      <td>0.3202</td>\n",
              "      <td>0.4295</td>\n",
              "      <td>0.3654</td>\n",
              "      <td>0.2655</td>\n",
              "      <td>0.1576</td>\n",
              "      <td>0.0681</td>\n",
              "      <td>0.0294</td>\n",
              "      <td>0.0241</td>\n",
              "      <td>0.0121</td>\n",
              "      <td>0.0036</td>\n",
              "      <td>0.0150</td>\n",
              "      <td>0.0085</td>\n",
              "      <td>0.0073</td>\n",
              "      <td>0.0050</td>\n",
              "      <td>0.0044</td>\n",
              "      <td>0.0040</td>\n",
              "      <td>0.0117</td>\n",
              "      <td>0</td>\n",
              "    </tr>\n",
              "    <tr>\n",
              "      <th>4</th>\n",
              "      <td>0.0762</td>\n",
              "      <td>0.0666</td>\n",
              "      <td>0.0481</td>\n",
              "      <td>0.0394</td>\n",
              "      <td>0.0590</td>\n",
              "      <td>0.0649</td>\n",
              "      <td>0.1209</td>\n",
              "      <td>0.2467</td>\n",
              "      <td>0.3564</td>\n",
              "      <td>0.4459</td>\n",
              "      <td>0.4152</td>\n",
              "      <td>0.3952</td>\n",
              "      <td>0.4256</td>\n",
              "      <td>0.4135</td>\n",
              "      <td>0.4528</td>\n",
              "      <td>0.5326</td>\n",
              "      <td>0.7306</td>\n",
              "      <td>0.6193</td>\n",
              "      <td>0.2032</td>\n",
              "      <td>0.4636</td>\n",
              "      <td>0.4148</td>\n",
              "      <td>0.4292</td>\n",
              "      <td>0.5730</td>\n",
              "      <td>0.5399</td>\n",
              "      <td>0.3161</td>\n",
              "      <td>0.2285</td>\n",
              "      <td>0.6995</td>\n",
              "      <td>1.0000</td>\n",
              "      <td>0.7262</td>\n",
              "      <td>0.4724</td>\n",
              "      <td>0.5103</td>\n",
              "      <td>0.5459</td>\n",
              "      <td>0.2881</td>\n",
              "      <td>0.0981</td>\n",
              "      <td>0.1951</td>\n",
              "      <td>0.4181</td>\n",
              "      <td>0.4604</td>\n",
              "      <td>0.3217</td>\n",
              "      <td>0.2828</td>\n",
              "      <td>0.2430</td>\n",
              "      <td>0.1979</td>\n",
              "      <td>0.2444</td>\n",
              "      <td>0.1847</td>\n",
              "      <td>0.0841</td>\n",
              "      <td>0.0692</td>\n",
              "      <td>0.0528</td>\n",
              "      <td>0.0357</td>\n",
              "      <td>0.0085</td>\n",
              "      <td>0.0230</td>\n",
              "      <td>0.0046</td>\n",
              "      <td>0.0156</td>\n",
              "      <td>0.0031</td>\n",
              "      <td>0.0054</td>\n",
              "      <td>0.0105</td>\n",
              "      <td>0.0110</td>\n",
              "      <td>0.0015</td>\n",
              "      <td>0.0072</td>\n",
              "      <td>0.0048</td>\n",
              "      <td>0.0107</td>\n",
              "      <td>0.0094</td>\n",
              "      <td>0</td>\n",
              "    </tr>\n",
              "  </tbody>\n",
              "</table>\n",
              "</div>"
            ],
            "text/plain": [
              "   feat_0  feat_1  feat_2  feat_3  ...  feat_57  feat_58  feat_59  target\n",
              "0  0.0200  0.0371  0.0428  0.0207  ...   0.0084   0.0090   0.0032       0\n",
              "1  0.0453  0.0523  0.0843  0.0689  ...   0.0049   0.0052   0.0044       0\n",
              "2  0.0262  0.0582  0.1099  0.1083  ...   0.0164   0.0095   0.0078       0\n",
              "3  0.0100  0.0171  0.0623  0.0205  ...   0.0044   0.0040   0.0117       0\n",
              "4  0.0762  0.0666  0.0481  0.0394  ...   0.0048   0.0107   0.0094       0\n",
              "\n",
              "[5 rows x 61 columns]"
            ]
          },
          "metadata": {
            "tags": []
          },
          "execution_count": 2
        }
      ]
    },
    {
      "cell_type": "markdown",
      "metadata": {
        "id": "VToTjyPzMu7F"
      },
      "source": [
        "# Split data (train and test)"
      ]
    },
    {
      "cell_type": "code",
      "metadata": {
        "ExecuteTime": {
          "end_time": "2020-12-01T08:48:36.554013Z",
          "start_time": "2020-12-01T08:48:36.548028Z"
        },
        "id": "JDXM6K3NMu7F"
      },
      "source": [
        "X_train, X_test, y_train, y_test = train_test_split(df.drop(columns='target'), df['target'], test_size=0.2, random_state=2020)"
      ],
      "execution_count": 3,
      "outputs": []
    },
    {
      "cell_type": "markdown",
      "metadata": {
        "id": "no3bT9wLMu7F"
      },
      "source": [
        "# Cost functions"
      ]
    },
    {
      "cell_type": "markdown",
      "metadata": {
        "id": "Yxv3leAwMu7G"
      },
      "source": [
        "In this section you should implement two cost functions. Any of these can be used in the model."
      ]
    },
    {
      "cell_type": "markdown",
      "metadata": {
        "id": "2vwKC9dpMu7G"
      },
      "source": [
        "## Gini index"
      ]
    },
    {
      "cell_type": "code",
      "metadata": {
        "ExecuteTime": {
          "end_time": "2020-12-01T08:48:38.113015Z",
          "start_time": "2020-12-01T08:48:38.108028Z"
        },
        "id": "ESdI_LppMu7G"
      },
      "source": [
        "def gini_index(x):\n",
        "    \"\"\" Calculate Gini Index for a node\n",
        "    Args:\n",
        "        x: Numpy-array of targets in a node\n",
        "    Returns:\n",
        "        float: Gini index\n",
        "    \"\"\"    \n",
        "    if len(x) == 0:\n",
        "        return 0.0\n",
        "    p = np.bincount(x) / len(x)\n",
        "    return 1 - np.sum(p*p)"
      ],
      "execution_count": 4,
      "outputs": []
    },
    {
      "cell_type": "code",
      "metadata": {
        "ExecuteTime": {
          "end_time": "2020-12-01T08:48:38.326622Z",
          "start_time": "2020-12-01T08:48:38.320603Z"
        },
        "colab": {
          "base_uri": "https://localhost:8080/"
        },
        "id": "U50yKBUuMu7H",
        "outputId": "aed49fe5-43c2-43e8-e4fa-eff5a26652b2"
      },
      "source": [
        "target = df['target'].values\n",
        "gini_index(target)"
      ],
      "execution_count": 5,
      "outputs": [
        {
          "output_type": "execute_result",
          "data": {
            "text/plain": [
              "0.4977348372781065"
            ]
          },
          "metadata": {
            "tags": []
          },
          "execution_count": 5
        }
      ]
    },
    {
      "cell_type": "code",
      "metadata": {
        "ExecuteTime": {
          "end_time": "2020-12-01T08:48:38.517903Z",
          "start_time": "2020-12-01T08:48:38.512916Z"
        },
        "id": "3ZfQmx9iMu7H"
      },
      "source": [
        "def gini_gain(parent_node, splits):\n",
        "    \"\"\" Calculate Gini Gain for a particular split\n",
        "    Args:\n",
        "        parent_node: Numpy-array of targets in a parent node\n",
        "        splits: List of two numpy-arrays. Each numpy-array is targets in a child node\n",
        "    Returns:\n",
        "        float: Gini gain\n",
        "    \"\"\"       \n",
        "    splits_gini = np.sum([gini_index(split)*(len(split)/len(parent_node)) for split in splits])\n",
        "    return gini_index(parent_node) - splits_gini"
      ],
      "execution_count": 6,
      "outputs": []
    },
    {
      "cell_type": "code",
      "metadata": {
        "ExecuteTime": {
          "end_time": "2020-12-01T08:48:38.731542Z",
          "start_time": "2020-12-01T08:48:38.719612Z"
        },
        "colab": {
          "base_uri": "https://localhost:8080/"
        },
        "id": "qTWnNqFxMu7H",
        "outputId": "251f42b6-2739-46fe-816e-73991c0215ab"
      },
      "source": [
        "splits = [np.random.choice(df['target'].values, 100), np.random.choice(df['target'].values, 108)]\n",
        "gini_gain(target, splits)"
      ],
      "execution_count": 7,
      "outputs": [
        {
          "output_type": "execute_result",
          "data": {
            "text/plain": [
              "-0.0003705758273065962"
            ]
          },
          "metadata": {
            "tags": []
          },
          "execution_count": 7
        }
      ]
    },
    {
      "cell_type": "markdown",
      "metadata": {
        "id": "sGZIrx6fMu7I"
      },
      "source": [
        "## Entropy"
      ]
    },
    {
      "cell_type": "code",
      "metadata": {
        "ExecuteTime": {
          "end_time": "2020-12-01T08:48:39.080145Z",
          "start_time": "2020-12-01T08:48:39.075122Z"
        },
        "id": "OSxqMftzMu7I"
      },
      "source": [
        "def entropy(x):\n",
        "    \"\"\" Calculate Entropy for a node\n",
        "    Args:\n",
        "        x: Numpy-array of targets in a node\n",
        "    Returns:\n",
        "        float: Entropy\n",
        "    \"\"\"\n",
        "    if len(x) == 0:\n",
        "        return 0.0\n",
        "    p = np.clip(np.bincount(x) / len(x), 1e-15, 1.)\n",
        "    return -np.sum(p * np.log(p))"
      ],
      "execution_count": 8,
      "outputs": []
    },
    {
      "cell_type": "code",
      "metadata": {
        "ExecuteTime": {
          "end_time": "2020-12-01T08:48:39.415230Z",
          "start_time": "2020-12-01T08:48:39.410243Z"
        },
        "id": "mA4tSW-jMu7I"
      },
      "source": [
        "def information_gain(parent_node, splits):\n",
        "    \"\"\" Calculate Information Gain for a particular split\n",
        "    Args:\n",
        "        parent_node: Numpy-array of targets in a parent node\n",
        "        splits: List of two numpy-arrays. Each numpy-array is targets in a child node\n",
        "    Returns:\n",
        "        float: Information Gain\n",
        "    \"\"\"     \n",
        "    splits_entropy = np.sum([entropy(split)*(len(split)/len(parent_node)) for split in splits])\n",
        "    return entropy(parent_node) - splits_entropy"
      ],
      "execution_count": 9,
      "outputs": []
    },
    {
      "cell_type": "markdown",
      "metadata": {
        "id": "PZiubO4FMu7J"
      },
      "source": [
        "# Split function"
      ]
    },
    {
      "cell_type": "markdown",
      "metadata": {
        "id": "qdTKL2n4Mu7J"
      },
      "source": [
        "Implement split functions"
      ]
    },
    {
      "cell_type": "code",
      "metadata": {
        "ExecuteTime": {
          "end_time": "2020-12-01T08:48:40.068764Z",
          "start_time": "2020-12-01T08:48:40.063788Z"
        },
        "id": "ea_F_D7EMu7J"
      },
      "source": [
        "def split(X, y, value):\n",
        "    \"\"\" Split y-values in order to calculate gain later\n",
        "    Args:\n",
        "        X: 1-dimensional numpy-array of data predictor with shape (N,)\n",
        "        y: 1-dimensional numpy-array of targets with shape (N,)\n",
        "        value (float): the value by which the X should be splitted\n",
        "    Returns:\n",
        "        Two 1-dimensional numpy-arrays with targets related to splits\n",
        "    \"\"\"      \n",
        "    left_mask = X < value\n",
        "    right_mask = X >= value\n",
        "    return y[left_mask], y[right_mask]\n",
        "\n",
        "\n",
        "def split_dataset(X, y, column, value):\n",
        "    \"\"\" Split dataset by a particular column and value\n",
        "    Args:\n",
        "        X: 2-dimensional numpy-array (N, num_feats). N-number of samples\n",
        "        y: 1-dimensional numpy-array of targets with shape (N,)  \n",
        "        column (int): the column by which the X should be splitted\n",
        "        value (float): the value by which the column should be splitted\n",
        "    Returns:\n",
        "        Two 2-dimensional numpy-arrays with data and two 1-dimensional numpy-arrays with targets related to splits\n",
        "        left_X, right_X, left_y, right_y\n",
        "    \"\"\"       \n",
        "    left_mask = X[:, column] < value\n",
        "    right_mask = X[:, column] >= value\n",
        "    left_y, right_y = y[left_mask], y[right_mask]\n",
        "    left_X, right_X = X[left_mask], X[right_mask]\n",
        "    return left_X, right_X, left_y, right_y"
      ],
      "execution_count": 10,
      "outputs": []
    },
    {
      "cell_type": "markdown",
      "metadata": {
        "id": "A13DOrTQMu7K"
      },
      "source": [
        "# Decision tree"
      ]
    },
    {
      "cell_type": "code",
      "metadata": {
        "ExecuteTime": {
          "end_time": "2020-12-01T08:48:40.412627Z",
          "start_time": "2020-12-01T08:48:40.393648Z"
        },
        "id": "zaMSHMRFMu7K"
      },
      "source": [
        "class Tree(object):\n",
        "    \"\"\"A decision tree classifier.\n",
        "\n",
        "    Args:\n",
        "        criterion : {\"gini_gain\", \"information_gain\"}\n",
        "    \"\"\"\n",
        "    def __init__(self, criterion=None):\n",
        "        self.impurity = None\n",
        "        self.threshold = None\n",
        "        self.column_index = None\n",
        "        self.outcome_probs = None\n",
        "        self.criterion = criterion\n",
        "        self.left_child = None\n",
        "        self.right_child = None\n",
        "\n",
        "    @property\n",
        "    def is_terminal(self):\n",
        "        \"\"\" Define is it terminal node\n",
        "        \"\"\"          \n",
        "        return not bool(self.left_child and self.right_child)\n",
        "\n",
        "    def _find_splits(self, X):\n",
        "        \"\"\"Find all possible split values.\"\"\"\n",
        "        split_values = set()\n",
        "\n",
        "        # Get unique values in a sorted order\n",
        "        x_unique = list(np.unique(X))\n",
        "        for i in range(1, len(x_unique)):\n",
        "            # Find a point between two values\n",
        "            average = (x_unique[i - 1] + x_unique[i]) / 2.0\n",
        "            split_values.add(average)\n",
        "\n",
        "        return list(split_values)\n",
        "\n",
        "    def _find_best_split(self, X, y, n_features):\n",
        "        \"\"\"Find best feature and value for a split. Greedy algorithm.\"\"\"\n",
        "\n",
        "        # Sample random subset of features\n",
        "        subset = random.sample(list(range(0, X.shape[1])), n_features)\n",
        "        max_gain, max_col, max_val = None, None, None\n",
        "\n",
        "        for column in subset:\n",
        "            split_values = self._find_splits(X[:, column])\n",
        "            for value in split_values:\n",
        "                splits = split(X[:, column], y, value)\n",
        "                gain = self.criterion(y, splits)\n",
        "\n",
        "                if (max_gain is None) or (gain > max_gain):\n",
        "                    max_col, max_val, max_gain = column, value, gain\n",
        "        return max_col, max_val, max_gain\n",
        "\n",
        "    def fit(self, X, y, n_features=None, max_depth=None):\n",
        "        \"\"\"Fit model.\n",
        "\n",
        "        Args:\n",
        "            X (numpy-array): The training input samples. 2-dimensional numpy array.\n",
        "            y (numpy-array): The target values. 1-dimensional numpy array.\n",
        "            n_features (int): The number of features when fit is performed (default: all features)\n",
        "            max_depth (int): The maximum depth of the tree. If None, then nodes are expanded until\n",
        "                             all leaves are pure.\n",
        "        \"\"\"        \n",
        "        try:\n",
        "            # Exit from recursion using assert syntax\n",
        "            if max_depth is not None:\n",
        "                assert max_depth > 0\n",
        "                max_depth -= 1\n",
        "\n",
        "            if n_features is None:\n",
        "                n_features = X.shape[1]\n",
        "\n",
        "            column, value, gain = self._find_best_split(X, y, n_features)\n",
        "            assert gain is not None\n",
        "\n",
        "            self.column_index = column\n",
        "            self.threshold = value\n",
        "            self.impurity = gain\n",
        "\n",
        "            # Split dataset\n",
        "            left_X, right_X, left_target, right_target = split_dataset(X, y, column, value)\n",
        "\n",
        "            # Grow left and right child\n",
        "            self.left_child = Tree(self.criterion)\n",
        "            self.left_child.fit(\n",
        "                left_X, left_target, n_features, max_depth\n",
        "            )\n",
        "\n",
        "            self.right_child = Tree(self.criterion)\n",
        "            self.right_child.fit(\n",
        "                right_X, right_target, n_features, max_depth\n",
        "            )\n",
        "        except AssertionError:\n",
        "            self.outcome_probs = np.around(np.sum(y) / y.shape[0])\n",
        "\n",
        "\n",
        "    def predict_row(self, row):\n",
        "        \"\"\"Predict single row.\"\"\"\n",
        "        if not self.is_terminal:\n",
        "            if row[self.column_index] < self.threshold:\n",
        "                return self.left_child.predict_row(row)\n",
        "            else:\n",
        "                return self.right_child.predict_row(row)\n",
        "        return self.outcome_probs\n",
        "\n",
        "    def predict(self, X):\n",
        "        \"\"\"Make predictions.\n",
        "\n",
        "        Args:\n",
        "            X (numpy-array): The test input samples. 2-dimensional numpy array.\n",
        "        \"\"\"  \n",
        "        result = np.zeros(X.shape[0])\n",
        "        for i in range(X.shape[0]):\n",
        "            result[i] = self.predict_row(X[i, :])\n",
        "        return result"
      ],
      "execution_count": 11,
      "outputs": []
    },
    {
      "cell_type": "markdown",
      "metadata": {
        "id": "aJwqFn9GMu7P"
      },
      "source": [
        "Fit two models with \"max_depth=3\" and \"max_depth=None\" hyperparameters. Explain the results."
      ]
    },
    {
      "cell_type": "code",
      "metadata": {
        "ExecuteTime": {
          "end_time": "2020-12-01T08:48:45.836138Z",
          "start_time": "2020-12-01T08:48:41.916791Z"
        },
        "colab": {
          "base_uri": "https://localhost:8080/"
        },
        "id": "oRzQEPY1Mu7T",
        "outputId": "8d0cffdd-5597-4dbe-94b1-36f4039aaa65"
      },
      "source": [
        "model = Tree(criterion=gini_gain)\n",
        "model.fit(X_train.values, y_train.values)\n",
        "y_pred = model.predict(X_test.values)\n",
        "print(f\"Accuracy score is: {accuracy_score(y_test, y_pred)}\")"
      ],
      "execution_count": 12,
      "outputs": [
        {
          "output_type": "stream",
          "text": [
            "Accuracy score is: 0.6666666666666666\n"
          ],
          "name": "stdout"
        }
      ]
    },
    {
      "cell_type": "code",
      "metadata": {
        "ExecuteTime": {
          "end_time": "2020-12-01T08:48:41.915820Z",
          "start_time": "2020-12-01T08:48:40.891474Z"
        },
        "colab": {
          "base_uri": "https://localhost:8080/"
        },
        "id": "MuVe0GC4Mu7U",
        "outputId": "f5b40ed8-be2e-4cf2-ece6-c0606cde9020"
      },
      "source": [
        "model = Tree(criterion=gini_gain)\n",
        "model.fit(X_train.values, y_train.values, max_depth=3)\n",
        "y_pred = model.predict(X_test.values)\n",
        "print(f\"Accuracy score is: {accuracy_score(y_test, y_pred)}\")"
      ],
      "execution_count": 13,
      "outputs": [
        {
          "output_type": "stream",
          "text": [
            "Accuracy score is: 0.6666666666666666\n"
          ],
          "name": "stdout"
        }
      ]
    },
    {
      "cell_type": "code",
      "metadata": {
        "colab": {
          "base_uri": "https://localhost:8080/"
        },
        "id": "e_1BgxpDMu7U",
        "outputId": "85569ecb-a261-40d4-943c-9e91243ec165"
      },
      "source": [
        "model = Tree(criterion=information_gain)\n",
        "model.fit(X_train.values, y_train.values, max_depth=3)\n",
        "y_pred = model.predict(X_test.values)\n",
        "print(f\"Accuracy score is: {accuracy_score(y_test, y_pred)}\")"
      ],
      "execution_count": 14,
      "outputs": [
        {
          "output_type": "stream",
          "text": [
            "Accuracy score is: 0.7380952380952381\n"
          ],
          "name": "stdout"
        }
      ]
    },
    {
      "cell_type": "markdown",
      "metadata": {
        "id": "14CTTYM4Mu7U"
      },
      "source": [
        "# Random forest"
      ]
    },
    {
      "cell_type": "code",
      "metadata": {
        "ExecuteTime": {
          "end_time": "2020-12-01T08:48:45.857086Z",
          "start_time": "2020-12-01T08:48:45.838139Z"
        },
        "id": "Oz3z_sxRMu7V"
      },
      "source": [
        "class RandomForestClassifier(object):\n",
        "    \"\"\"\n",
        "    A random forest classifier.\n",
        "    A random forest is a meta estimator that fits a number of decision tree\n",
        "    classifiers on various sub-samples of the dataset and uses averaging to\n",
        "    improve the predictive accuracy and control overfitting.\n",
        "    \n",
        "    Args:\n",
        "        n_estimators : int, default=10\n",
        "            The number of trees in the forest.\n",
        "\n",
        "        max_depth : int, default=None\n",
        "            The maximum depth of the tree. If None, then nodes are expanded until\n",
        "            all leaves are pure.        \n",
        "\n",
        "        n_features : int, default=None\n",
        "            The number of features to consider when looking for the best split.\n",
        "            If None, then `n_features=sqrt(n_features)`.\n",
        "\n",
        "        criterion : {\"gini\", \"entropy\"}, default=\"gini\"\n",
        "            The function to measure the quality of a split. Supported criteria are\n",
        "            \"gini\" for the Gini impurity and \"entropy\" for the information gain.\n",
        "    \"\"\"\n",
        "\n",
        "    def __init__(self, n_estimators=10, max_depth=None, n_features=None, criterion=\"entropy\", bootstrap=True):\n",
        "        self.n_estimators = n_estimators\n",
        "        self.max_depth = max_depth\n",
        "        self.n_features = n_features\n",
        "        self.bootstrap = bootstrap\n",
        "        \n",
        "        if criterion == \"entropy\":\n",
        "            self.criterion = information_gain\n",
        "        elif criterion == \"gini\":\n",
        "            self.criterion = gini_gain\n",
        "        else:\n",
        "            raise ValueError(f\"Unknown criterion '{criterion}'\")\n",
        "            \n",
        "        self.trees = [Tree(criterion=self.criterion) for _ in range(n_estimators)]\n",
        "        \n",
        "    def _init_data(self, X, y):\n",
        "        \"\"\"Ensure data are in the expected format.\n",
        "        Ensures X and y are stored as numpy ndarrays by converting from an\n",
        "        array-like object if necessary. \n",
        "        Parameters\n",
        "        Args:\n",
        "            X : array-like\n",
        "                Feature dataset.\n",
        "            y : array-like, default=None\n",
        "                Target values. By default is required, but if y_required = false\n",
        "                then may be omitted.\n",
        "        \"\"\"\n",
        "        self.size = len(X)\n",
        "        \n",
        "        if not isinstance(X, np.ndarray):\n",
        "            self.X = np.array(X)\n",
        "        else:\n",
        "            self.X = X\n",
        "\n",
        "        if not isinstance(y, np.ndarray):\n",
        "            self.y = np.array(y)\n",
        "        else:\n",
        "            self.y = y\n",
        "            \n",
        "    def bootstrap_data(self, size):\n",
        "        return np.random.randint(size, size=size)\n",
        "    \n",
        "    def fit(self, X, y):\n",
        "        \"\"\"Fit model.\n",
        "\n",
        "        Args:\n",
        "            X (numpy-array): The training input samples. 2-dimensional numpy array.\n",
        "            y (numpy-array): The target values. 1-dimensional numpy array.\n",
        "        \"\"\"         \n",
        "        if self.n_features is None:\n",
        "            self.n_features = int(np.sqrt(X.shape[1]))\n",
        "        elif X.shape[1] < self.n_features:\n",
        "            raise ValueError(f\"'n_features should be <= n_features'\")\n",
        "            \n",
        "        self._init_data(X, y)\n",
        "        \n",
        "        for tree in self.trees:\n",
        "            if self.bootstrap:\n",
        "                idxs = self.bootstrap_data(self.size)\n",
        "                X = self.X[idxs]\n",
        "                y = self.y[idxs]\n",
        "            else:\n",
        "                X = self.X\n",
        "                y = self.y\n",
        "                \n",
        "            tree.fit(\n",
        "                X,\n",
        "                y,\n",
        "                n_features=self.n_features,\n",
        "                max_depth=self.max_depth,\n",
        "            )\n",
        "            \n",
        "    def predict(self, X):\n",
        "        \"\"\"Make predictions.\n",
        "\n",
        "        Args:\n",
        "            X (numpy-array): The test data input samples. 2-dimensional numpy array.\n",
        "        \"\"\"            \n",
        "        if not isinstance(X, np.ndarray):\n",
        "            X = np.array(X)\n",
        "\n",
        "        if self.X is not None:\n",
        "            predictions = np.zeros(len(X))\n",
        "            for i in range(len(X)):\n",
        "                row_pred = 0.\n",
        "                for tree in self.trees:\n",
        "                    row_pred += tree.predict_row(X[i, :])\n",
        "\n",
        "                row_pred /= self.n_estimators\n",
        "                predictions[i] = round(row_pred)\n",
        "            return predictions  \n",
        "        else:\n",
        "            raise ValueError(\"You should fit a model before `predict`\")"
      ],
      "execution_count": 15,
      "outputs": []
    },
    {
      "cell_type": "markdown",
      "metadata": {
        "id": "giiMohn6Mu7V"
      },
      "source": [
        "Fit two models with \"n_estimators=10\" and \"n_estimators=100\" hyperparameters. Explain the results."
      ]
    },
    {
      "cell_type": "code",
      "metadata": {
        "ExecuteTime": {
          "end_time": "2020-12-01T08:48:51.641967Z",
          "start_time": "2020-12-01T08:48:45.860076Z"
        },
        "colab": {
          "base_uri": "https://localhost:8080/"
        },
        "id": "DzM_4Sa4Mu7V",
        "outputId": "044d3c89-0a7b-4124-b92f-15eff3eb1f7c"
      },
      "source": [
        "model = RandomForestClassifier(n_estimators=10, max_depth=None, n_features=None, criterion=\"entropy\")\n",
        "model.fit(X_train, y_train)\n",
        "y_pred = model.predict(X_test)\n",
        "print(f\"Accuracy score is: {accuracy_score(y_test, y_pred)}\")"
      ],
      "execution_count": 16,
      "outputs": [
        {
          "output_type": "stream",
          "text": [
            "Accuracy score is: 0.7380952380952381\n"
          ],
          "name": "stdout"
        }
      ]
    },
    {
      "cell_type": "code",
      "metadata": {
        "ExecuteTime": {
          "end_time": "2020-12-01T08:49:47.690531Z",
          "start_time": "2020-12-01T08:48:51.644919Z"
        },
        "colab": {
          "base_uri": "https://localhost:8080/"
        },
        "id": "gzo-WDrtMu7V",
        "outputId": "32ad80a1-1e9d-4f76-ef87-5f85dcae1338"
      },
      "source": [
        "model = RandomForestClassifier(n_estimators=100, max_depth=None, n_features=None, criterion=\"entropy\")\n",
        "model.fit(X_train, y_train)\n",
        "y_pred = model.predict(X_test)\n",
        "print(f\"Accuracy score is: {accuracy_score(y_test, y_pred)}\")"
      ],
      "execution_count": 17,
      "outputs": [
        {
          "output_type": "stream",
          "text": [
            "Accuracy score is: 0.8809523809523809\n"
          ],
          "name": "stdout"
        }
      ]
    },
    {
      "cell_type": "markdown",
      "metadata": {
        "id": "qwNmxDmbMu7W"
      },
      "source": [
        "Now it's your turn to explore the various parameters of sklearn [RandomForestClassifier](https://scikit-learn.org/stable/modules/generated/sklearn.ensemble.RandomForestClassifier.html) and their influence on model quality."
      ]
    },
    {
      "cell_type": "markdown",
      "metadata": {
        "id": "NAvX_xNIMu7W"
      },
      "source": [
        "# Homework part 1. RandomForestClassifier"
      ]
    },
    {
      "cell_type": "markdown",
      "metadata": {
        "id": "aFh5GrGmMu7W"
      },
      "source": [
        "_Note_: Consider **accuracy** as main metric of model performance on this dataset."
      ]
    },
    {
      "cell_type": "code",
      "metadata": {
        "id": "3T1G1_NUMu7W"
      },
      "source": [
        "from IPython.display import display\r\n",
        "from sklearn.ensemble import RandomForestClassifier\r\n",
        "from json import loads\r\n",
        "import seaborn as sb\r\n",
        "import matplotlib.pyplot as plt"
      ],
      "execution_count": 18,
      "outputs": []
    },
    {
      "cell_type": "markdown",
      "metadata": {
        "id": "kU72kwapMu7X"
      },
      "source": [
        "**Task 1 (0.5 points)** Split the dataset into train, test and validation parts (0.6 / 0.2 / 0.2). First two will be used for model hyperparameter tuning whereas the best model quality should be evaluated on validation part."
      ]
    },
    {
      "cell_type": "code",
      "metadata": {
        "id": "VoZN1LwKMu7X"
      },
      "source": [
        "X_train, X_test, y_train, y_test = train_test_split(df.drop(columns='target'), df['target'], train_size = 0.6, random_state=8)\r\n",
        "X_test, X_validate, y_test, y_validate = train_test_split(X_test, y_test, train_size = 0.5, random_state=8)\r\n",
        "\r\n",
        "#due to lack of memory, I divide the training sample again. This is used for educational purposes.\r\n",
        "X_train, X_train2, y_train, y_train2 = train_test_split(X_train, y_train, train_size = 0.2, random_state=8)"
      ],
      "execution_count": 19,
      "outputs": []
    },
    {
      "cell_type": "markdown",
      "metadata": {
        "id": "J3yQPsdWMu7X"
      },
      "source": [
        "**Task 2 (2 points)**. Apply '_greedy_' hyperparameter tuning of RandomForestClassifier model. '_Greedy_' way means the following general approach. At first we tune one model parameter whereas others are fixed with default values. Then we move on to tune the second parameter whereas others are fixed default values and first has the best values from previous step. After it we tune the third parameter with best fixed values for previous two and default values for the rest. Repeat until we go through all the parameters, then repeat this cycle if you are seeing a clear increase in the test metric. <br>\n",
        "\n",
        "Although this approach has a lot of disadvantages (you may think which ones), sometimes that is the only way to tune model typerparams due to big training time **if you understand how the model parameters are interrelated and the tuning order takes those dependencies into account.**<br>\n",
        "\n",
        "Here is one of the possible options for RandomForestClassifier:\n",
        "- Choose a decent value for number of trees using '_elbow_' rule. You may plot the dependence of accuracy on trees_num and pick up the number after which the error decreases not **as much as before**. \n",
        "- Pick up the best split criterion ('gini' / 'entropy') and then tune _max_depth_, _min_samples_split_, _min_samples_leaf_.\n",
        "- Increase number of trees with best found parameters so far.\n",
        "- Repeat this excersice starting from picking the best split criterion while other params are fixed with best values from previous steps **if you observe a significant test metric improvement**. Otherwise just stop and measure your best model result on validation set."
      ]
    },
    {
      "cell_type": "code",
      "metadata": {
        "id": "5Rw2QTXNw_2t"
      },
      "source": [
        "class Greedy():\r\n",
        "  def __init__(self, classifier, parametres, random_state=None):\r\n",
        "    self._fitten = 0\r\n",
        "    self.classifier = classifier\r\n",
        "    self.parametres = parametres\r\n",
        "    self._best_accuracy = -1.0\r\n",
        "    self._fitted_params = {'bootstrap': True,\r\n",
        "                          'ccp_alpha': 0.0,\r\n",
        "                          'class_weight': None,\r\n",
        "                          'criterion': 'gini',\r\n",
        "                          'max_depth': None,\r\n",
        "                          'max_features': 'auto',\r\n",
        "                          'max_leaf_nodes': None,\r\n",
        "                          'max_samples': None,\r\n",
        "                          'min_impurity_decrease': 0.0,\r\n",
        "                          'min_impurity_split': None,\r\n",
        "                          'min_samples_leaf': 1,\r\n",
        "                          'min_samples_split': 2,\r\n",
        "                          'min_weight_fraction_leaf': 0.0,\r\n",
        "                          'n_estimators': 100,\r\n",
        "                          'n_jobs': None,\r\n",
        "                          'oob_score': False,\r\n",
        "                          'random_state': random_state,\r\n",
        "                          'verbose': 0,\r\n",
        "                          'warm_start': False}\r\n",
        "    self.classifier.set_params(**self._fitted_params)\r\n",
        "\r\n",
        "  def _best_in_table(self, data, p=0.9, feature='accuracy'):\r\n",
        "    return data[data[feature] > data[feature].quantile(p)]\r\n",
        "  \r\n",
        "  def fit(self, X_train, y_train):\r\n",
        "    iter = 0\r\n",
        "    best = pd.DataFrame(columns=('parametr_name', 'parametr_value', 'parametres', 'accuracy'))\r\n",
        "    for p_name, params in self.parametres.items():\r\n",
        "      result = pd.DataFrame(columns=('parametr_name', 'parametr_value', 'parametres', 'accuracy'))\r\n",
        "      for p in params:\r\n",
        "        self.classifier.set_params(**{p_name:p})\r\n",
        "        self.classifier.fit(X_train, y_train)\r\n",
        "        result = result.append({'parametr_name':p_name, 'parametr_value':p, 'parametres':self.classifier.get_params(), 'accuracy':accuracy_score(y_test, self.classifier.predict(X_test))}, ignore_index=True)\r\n",
        "      lp = sb.lineplot(data=result, x='parametr_value', y='accuracy')\r\n",
        "      lp.set(xlabel=p_name)\r\n",
        "      plt.show()\r\n",
        "      for i in np.arange(0.99, 0.49, -0.01):\r\n",
        "        table = self._best_in_table(result, i).head(5)\r\n",
        "        if not table.shape[0] == 0:\r\n",
        "          break\r\n",
        "      if not table.shape[0] == 0:\r\n",
        "        display(table)\r\n",
        "        best = table[table['accuracy'] == table['accuracy'].max()].head(1)\r\n",
        "        self.classifier.set_params(**{best['parametr_name'].max() : best['parametr_value'].max()})\r\n",
        "        print(f'In {best.parametr_name.iloc[0]}={best.parametr_value.iloc[0]} best accuracy of: {best.accuracy.iloc[0]}')\r\n",
        "      if iter == 0:\r\n",
        "        if self._best_accuracy >= best['accuracy'].iloc[0]:\r\n",
        "          self.classifier.set_params(**self._fitted_params)\r\n",
        "          self.classifier.fit(X_train, y_train)\r\n",
        "          print('Best parametres of:')\r\n",
        "          print('------------------------------------------------------------')\r\n",
        "          print(self._fitted_params)\r\n",
        "          print('------------------------------------------------------------')\r\n",
        "          print(f'Best accuracy of: {self._best_accuracy}')\r\n",
        "          self._fitten = 1\r\n",
        "          return\r\n",
        "        self._best_accuracy = best['accuracy'].iloc[0]\r\n",
        "        self._fitted_params = best['parametres'].iloc[0]\r\n",
        "        iter = 1\r\n",
        "    self.fit(X_train, y_train)\r\n",
        "\r\n",
        "  def predict(self, X):\r\n",
        "    if self._fitten == 0:\r\n",
        "      raise ValueError('First, fit in the train dataset')\r\n",
        "    return self.classifier.predict(X)"
      ],
      "execution_count": 20,
      "outputs": []
    },
    {
      "cell_type": "code",
      "metadata": {
        "id": "ML65zc6n-dHw"
      },
      "source": [
        "parametres = {\r\n",
        "    'n_estimators': np.linspace(1, 50, 50, dtype='int'),\r\n",
        "    'criterion': ['gini', 'entropy'],\r\n",
        "    'max_depth': np.linspace(1, 3, 3, dtype='int'),\r\n",
        "    'min_samples_split': np.linspace(2, 10, 8, dtype='int'),\r\n",
        "    'min_samples_leaf': np.linspace(1, 5, 5, dtype='int')}\r\n",
        "greedy = Greedy(RandomForestClassifier(), parametres, random_state=8)"
      ],
      "execution_count": 21,
      "outputs": []
    },
    {
      "cell_type": "code",
      "metadata": {
        "colab": {
          "base_uri": "https://localhost:8080/",
          "height": 1000
        },
        "id": "94KbcGOWFTf7",
        "outputId": "afabadfc-ae0a-4240-bad3-0a43b6d7f2fe"
      },
      "source": [
        "greedy.fit(X_train, y_train)"
      ],
      "execution_count": 22,
      "outputs": [
        {
          "output_type": "display_data",
          "data": {
            "image/png": "[encoded data removed]",
            "text/plain": [
              "<Figure size 432x288 with 1 Axes>"
            ]
          },
          "metadata": {
            "tags": [],
            "needs_background": "light"
          }
        },
        {
          "output_type": "display_data",
          "data": {
            "text/html": [
              "<div>\n",
              "<style scoped>\n",
              "    .dataframe tbody tr th:only-of-type {\n",
              "        vertical-align: middle;\n",
              "    }\n",
              "\n",
              "    .dataframe tbody tr th {\n",
              "        vertical-align: top;\n",
              "    }\n",
              "\n",
              "    .dataframe thead th {\n",
              "        text-align: right;\n",
              "    }\n",
              "</style>\n",
              "<table border=\"1\" class=\"dataframe\">\n",
              "  <thead>\n",
              "    <tr style=\"text-align: right;\">\n",
              "      <th></th>\n",
              "      <th>parametr_name</th>\n",
              "      <th>parametr_value</th>\n",
              "      <th>parametres</th>\n",
              "      <th>accuracy</th>\n",
              "    </tr>\n",
              "  </thead>\n",
              "  <tbody>\n",
              "    <tr>\n",
              "      <th>3</th>\n",
              "      <td>n_estimators</td>\n",
              "      <td>4</td>\n",
              "      <td>{'bootstrap': True, 'ccp_alpha': 0.0, 'class_w...</td>\n",
              "      <td>0.690476</td>\n",
              "    </tr>\n",
              "    <tr>\n",
              "      <th>19</th>\n",
              "      <td>n_estimators</td>\n",
              "      <td>20</td>\n",
              "      <td>{'bootstrap': True, 'ccp_alpha': 0.0, 'class_w...</td>\n",
              "      <td>0.690476</td>\n",
              "    </tr>\n",
              "    <tr>\n",
              "      <th>46</th>\n",
              "      <td>n_estimators</td>\n",
              "      <td>47</td>\n",
              "      <td>{'bootstrap': True, 'ccp_alpha': 0.0, 'class_w...</td>\n",
              "      <td>0.690476</td>\n",
              "    </tr>\n",
              "  </tbody>\n",
              "</table>\n",
              "</div>"
            ],
            "text/plain": [
              "   parametr_name  ...  accuracy\n",
              "3   n_estimators  ...  0.690476\n",
              "19  n_estimators  ...  0.690476\n",
              "46  n_estimators  ...  0.690476\n",
              "\n",
              "[3 rows x 4 columns]"
            ]
          },
          "metadata": {
            "tags": []
          }
        },
        {
          "output_type": "stream",
          "text": [
            "In n_estimators=4 best accuracy of: 0.6904761904761905\n"
          ],
          "name": "stdout"
        },
        {
          "output_type": "display_data",
          "data": {
            "image/png": "[encoded data removed]",
            "text/plain": [
              "<Figure size 432x288 with 1 Axes>"
            ]
          },
          "metadata": {
            "tags": [],
            "needs_background": "light"
          }
        },
        {
          "output_type": "display_data",
          "data": {
            "text/html": [
              "<div>\n",
              "<style scoped>\n",
              "    .dataframe tbody tr th:only-of-type {\n",
              "        vertical-align: middle;\n",
              "    }\n",
              "\n",
              "    .dataframe tbody tr th {\n",
              "        vertical-align: top;\n",
              "    }\n",
              "\n",
              "    .dataframe thead th {\n",
              "        text-align: right;\n",
              "    }\n",
              "</style>\n",
              "<table border=\"1\" class=\"dataframe\">\n",
              "  <thead>\n",
              "    <tr style=\"text-align: right;\">\n",
              "      <th></th>\n",
              "      <th>parametr_name</th>\n",
              "      <th>parametr_value</th>\n",
              "      <th>parametres</th>\n",
              "      <th>accuracy</th>\n",
              "    </tr>\n",
              "  </thead>\n",
              "  <tbody>\n",
              "    <tr>\n",
              "      <th>0</th>\n",
              "      <td>criterion</td>\n",
              "      <td>gini</td>\n",
              "      <td>{'bootstrap': True, 'ccp_alpha': 0.0, 'class_w...</td>\n",
              "      <td>0.690476</td>\n",
              "    </tr>\n",
              "  </tbody>\n",
              "</table>\n",
              "</div>"
            ],
            "text/plain": [
              "  parametr_name  ...  accuracy\n",
              "0     criterion  ...  0.690476\n",
              "\n",
              "[1 rows x 4 columns]"
            ]
          },
          "metadata": {
            "tags": []
          }
        },
        {
          "output_type": "stream",
          "text": [
            "In criterion=gini best accuracy of: 0.6904761904761905\n"
          ],
          "name": "stdout"
        },
        {
          "output_type": "display_data",
          "data": {
            "image/png": "[encoded data removed]",
            "text/plain": [
              "<Figure size 432x288 with 1 Axes>"
            ]
          },
          "metadata": {
            "tags": [],
            "needs_background": "light"
          }
        },
        {
          "output_type": "display_data",
          "data": {
            "text/html": [
              "<div>\n",
              "<style scoped>\n",
              "    .dataframe tbody tr th:only-of-type {\n",
              "        vertical-align: middle;\n",
              "    }\n",
              "\n",
              "    .dataframe tbody tr th {\n",
              "        vertical-align: top;\n",
              "    }\n",
              "\n",
              "    .dataframe thead th {\n",
              "        text-align: right;\n",
              "    }\n",
              "</style>\n",
              "<table border=\"1\" class=\"dataframe\">\n",
              "  <thead>\n",
              "    <tr style=\"text-align: right;\">\n",
              "      <th></th>\n",
              "      <th>parametr_name</th>\n",
              "      <th>parametr_value</th>\n",
              "      <th>parametres</th>\n",
              "      <th>accuracy</th>\n",
              "    </tr>\n",
              "  </thead>\n",
              "  <tbody>\n",
              "    <tr>\n",
              "      <th>1</th>\n",
              "      <td>max_depth</td>\n",
              "      <td>2</td>\n",
              "      <td>{'bootstrap': True, 'ccp_alpha': 0.0, 'class_w...</td>\n",
              "      <td>0.666667</td>\n",
              "    </tr>\n",
              "  </tbody>\n",
              "</table>\n",
              "</div>"
            ],
            "text/plain": [
              "  parametr_name  ...  accuracy\n",
              "1     max_depth  ...  0.666667\n",
              "\n",
              "[1 rows x 4 columns]"
            ]
          },
          "metadata": {
            "tags": []
          }
        },
        {
          "output_type": "stream",
          "text": [
            "In max_depth=2 best accuracy of: 0.6666666666666666\n"
          ],
          "name": "stdout"
        },
        {
          "output_type": "display_data",
          "data": {
            "image/png": "[encoded data removed]",
            "text/plain": [
              "<Figure size 432x288 with 1 Axes>"
            ]
          },
          "metadata": {
            "tags": [],
            "needs_background": "light"
          }
        },
        {
          "output_type": "display_data",
          "data": {
            "text/html": [
              "<div>\n",
              "<style scoped>\n",
              "    .dataframe tbody tr th:only-of-type {\n",
              "        vertical-align: middle;\n",
              "    }\n",
              "\n",
              "    .dataframe tbody tr th {\n",
              "        vertical-align: top;\n",
              "    }\n",
              "\n",
              "    .dataframe thead th {\n",
              "        text-align: right;\n",
              "    }\n",
              "</style>\n",
              "<table border=\"1\" class=\"dataframe\">\n",
              "  <thead>\n",
              "    <tr style=\"text-align: right;\">\n",
              "      <th></th>\n",
              "      <th>parametr_name</th>\n",
              "      <th>parametr_value</th>\n",
              "      <th>parametres</th>\n",
              "      <th>accuracy</th>\n",
              "    </tr>\n",
              "  </thead>\n",
              "  <tbody>\n",
              "    <tr>\n",
              "      <th>5</th>\n",
              "      <td>min_samples_split</td>\n",
              "      <td>7</td>\n",
              "      <td>{'bootstrap': True, 'ccp_alpha': 0.0, 'class_w...</td>\n",
              "      <td>0.714286</td>\n",
              "    </tr>\n",
              "    <tr>\n",
              "      <th>6</th>\n",
              "      <td>min_samples_split</td>\n",
              "      <td>8</td>\n",
              "      <td>{'bootstrap': True, 'ccp_alpha': 0.0, 'class_w...</td>\n",
              "      <td>0.714286</td>\n",
              "    </tr>\n",
              "    <tr>\n",
              "      <th>7</th>\n",
              "      <td>min_samples_split</td>\n",
              "      <td>10</td>\n",
              "      <td>{'bootstrap': True, 'ccp_alpha': 0.0, 'class_w...</td>\n",
              "      <td>0.714286</td>\n",
              "    </tr>\n",
              "  </tbody>\n",
              "</table>\n",
              "</div>"
            ],
            "text/plain": [
              "       parametr_name  ...  accuracy\n",
              "5  min_samples_split  ...  0.714286\n",
              "6  min_samples_split  ...  0.714286\n",
              "7  min_samples_split  ...  0.714286\n",
              "\n",
              "[3 rows x 4 columns]"
            ]
          },
          "metadata": {
            "tags": []
          }
        },
        {
          "output_type": "stream",
          "text": [
            "In min_samples_split=7 best accuracy of: 0.7142857142857143\n"
          ],
          "name": "stdout"
        },
        {
          "output_type": "display_data",
          "data": {
            "image/png": "[encoded data removed]",
            "text/plain": [
              "<Figure size 432x288 with 1 Axes>"
            ]
          },
          "metadata": {
            "tags": [],
            "needs_background": "light"
          }
        },
        {
          "output_type": "display_data",
          "data": {
            "text/html": [
              "<div>\n",
              "<style scoped>\n",
              "    .dataframe tbody tr th:only-of-type {\n",
              "        vertical-align: middle;\n",
              "    }\n",
              "\n",
              "    .dataframe tbody tr th {\n",
              "        vertical-align: top;\n",
              "    }\n",
              "\n",
              "    .dataframe thead th {\n",
              "        text-align: right;\n",
              "    }\n",
              "</style>\n",
              "<table border=\"1\" class=\"dataframe\">\n",
              "  <thead>\n",
              "    <tr style=\"text-align: right;\">\n",
              "      <th></th>\n",
              "      <th>parametr_name</th>\n",
              "      <th>parametr_value</th>\n",
              "      <th>parametres</th>\n",
              "      <th>accuracy</th>\n",
              "    </tr>\n",
              "  </thead>\n",
              "  <tbody>\n",
              "    <tr>\n",
              "      <th>0</th>\n",
              "      <td>min_samples_leaf</td>\n",
              "      <td>1</td>\n",
              "      <td>{'bootstrap': True, 'ccp_alpha': 0.0, 'class_w...</td>\n",
              "      <td>0.714286</td>\n",
              "    </tr>\n",
              "  </tbody>\n",
              "</table>\n",
              "</div>"
            ],
            "text/plain": [
              "      parametr_name  ...  accuracy\n",
              "0  min_samples_leaf  ...  0.714286\n",
              "\n",
              "[1 rows x 4 columns]"
            ]
          },
          "metadata": {
            "tags": []
          }
        },
        {
          "output_type": "stream",
          "text": [
            "In min_samples_leaf=1 best accuracy of: 0.7142857142857143\n"
          ],
          "name": "stdout"
        },
        {
          "output_type": "display_data",
          "data": {
            "image/png": "[encoded data removed]",
            "text/plain": [
              "<Figure size 432x288 with 1 Axes>"
            ]
          },
          "metadata": {
            "tags": [],
            "needs_background": "light"
          }
        },
        {
          "output_type": "display_data",
          "data": {
            "text/html": [
              "<div>\n",
              "<style scoped>\n",
              "    .dataframe tbody tr th:only-of-type {\n",
              "        vertical-align: middle;\n",
              "    }\n",
              "\n",
              "    .dataframe tbody tr th {\n",
              "        vertical-align: top;\n",
              "    }\n",
              "\n",
              "    .dataframe thead th {\n",
              "        text-align: right;\n",
              "    }\n",
              "</style>\n",
              "<table border=\"1\" class=\"dataframe\">\n",
              "  <thead>\n",
              "    <tr style=\"text-align: right;\">\n",
              "      <th></th>\n",
              "      <th>parametr_name</th>\n",
              "      <th>parametr_value</th>\n",
              "      <th>parametres</th>\n",
              "      <th>accuracy</th>\n",
              "    </tr>\n",
              "  </thead>\n",
              "  <tbody>\n",
              "    <tr>\n",
              "      <th>4</th>\n",
              "      <td>n_estimators</td>\n",
              "      <td>5</td>\n",
              "      <td>{'bootstrap': True, 'ccp_alpha': 0.0, 'class_w...</td>\n",
              "      <td>0.738095</td>\n",
              "    </tr>\n",
              "  </tbody>\n",
              "</table>\n",
              "</div>"
            ],
            "text/plain": [
              "  parametr_name  ...  accuracy\n",
              "4  n_estimators  ...  0.738095\n",
              "\n",
              "[1 rows x 4 columns]"
            ]
          },
          "metadata": {
            "tags": []
          }
        },
        {
          "output_type": "stream",
          "text": [
            "In n_estimators=5 best accuracy of: 0.7380952380952381\n"
          ],
          "name": "stdout"
        },
        {
          "output_type": "display_data",
          "data": {
            "image/png": "[encoded data removed]",
            "text/plain": [
              "<Figure size 432x288 with 1 Axes>"
            ]
          },
          "metadata": {
            "tags": [],
            "needs_background": "light"
          }
        },
        {
          "output_type": "display_data",
          "data": {
            "text/html": [
              "<div>\n",
              "<style scoped>\n",
              "    .dataframe tbody tr th:only-of-type {\n",
              "        vertical-align: middle;\n",
              "    }\n",
              "\n",
              "    .dataframe tbody tr th {\n",
              "        vertical-align: top;\n",
              "    }\n",
              "\n",
              "    .dataframe thead th {\n",
              "        text-align: right;\n",
              "    }\n",
              "</style>\n",
              "<table border=\"1\" class=\"dataframe\">\n",
              "  <thead>\n",
              "    <tr style=\"text-align: right;\">\n",
              "      <th></th>\n",
              "      <th>parametr_name</th>\n",
              "      <th>parametr_value</th>\n",
              "      <th>parametres</th>\n",
              "      <th>accuracy</th>\n",
              "    </tr>\n",
              "  </thead>\n",
              "  <tbody>\n",
              "    <tr>\n",
              "      <th>0</th>\n",
              "      <td>criterion</td>\n",
              "      <td>gini</td>\n",
              "      <td>{'bootstrap': True, 'ccp_alpha': 0.0, 'class_w...</td>\n",
              "      <td>0.738095</td>\n",
              "    </tr>\n",
              "  </tbody>\n",
              "</table>\n",
              "</div>"
            ],
            "text/plain": [
              "  parametr_name  ...  accuracy\n",
              "0     criterion  ...  0.738095\n",
              "\n",
              "[1 rows x 4 columns]"
            ]
          },
          "metadata": {
            "tags": []
          }
        },
        {
          "output_type": "stream",
          "text": [
            "In criterion=gini best accuracy of: 0.7380952380952381\n"
          ],
          "name": "stdout"
        },
        {
          "output_type": "display_data",
          "data": {
            "image/png": "[encoded data removed]",
            "text/plain": [
              "<Figure size 432x288 with 1 Axes>"
            ]
          },
          "metadata": {
            "tags": [],
            "needs_background": "light"
          }
        },
        {
          "output_type": "display_data",
          "data": {
            "text/html": [
              "<div>\n",
              "<style scoped>\n",
              "    .dataframe tbody tr th:only-of-type {\n",
              "        vertical-align: middle;\n",
              "    }\n",
              "\n",
              "    .dataframe tbody tr th {\n",
              "        vertical-align: top;\n",
              "    }\n",
              "\n",
              "    .dataframe thead th {\n",
              "        text-align: right;\n",
              "    }\n",
              "</style>\n",
              "<table border=\"1\" class=\"dataframe\">\n",
              "  <thead>\n",
              "    <tr style=\"text-align: right;\">\n",
              "      <th></th>\n",
              "      <th>parametr_name</th>\n",
              "      <th>parametr_value</th>\n",
              "      <th>parametres</th>\n",
              "      <th>accuracy</th>\n",
              "    </tr>\n",
              "  </thead>\n",
              "  <tbody>\n",
              "    <tr>\n",
              "      <th>1</th>\n",
              "      <td>max_depth</td>\n",
              "      <td>2</td>\n",
              "      <td>{'bootstrap': True, 'ccp_alpha': 0.0, 'class_w...</td>\n",
              "      <td>0.738095</td>\n",
              "    </tr>\n",
              "    <tr>\n",
              "      <th>2</th>\n",
              "      <td>max_depth</td>\n",
              "      <td>3</td>\n",
              "      <td>{'bootstrap': True, 'ccp_alpha': 0.0, 'class_w...</td>\n",
              "      <td>0.738095</td>\n",
              "    </tr>\n",
              "  </tbody>\n",
              "</table>\n",
              "</div>"
            ],
            "text/plain": [
              "  parametr_name  ...  accuracy\n",
              "1     max_depth  ...  0.738095\n",
              "2     max_depth  ...  0.738095\n",
              "\n",
              "[2 rows x 4 columns]"
            ]
          },
          "metadata": {
            "tags": []
          }
        },
        {
          "output_type": "stream",
          "text": [
            "In max_depth=2 best accuracy of: 0.7380952380952381\n"
          ],
          "name": "stdout"
        },
        {
          "output_type": "display_data",
          "data": {
            "image/png": "[encoded data removed]",
            "text/plain": [
              "<Figure size 432x288 with 1 Axes>"
            ]
          },
          "metadata": {
            "tags": [],
            "needs_background": "light"
          }
        },
        {
          "output_type": "display_data",
          "data": {
            "text/html": [
              "<div>\n",
              "<style scoped>\n",
              "    .dataframe tbody tr th:only-of-type {\n",
              "        vertical-align: middle;\n",
              "    }\n",
              "\n",
              "    .dataframe tbody tr th {\n",
              "        vertical-align: top;\n",
              "    }\n",
              "\n",
              "    .dataframe thead th {\n",
              "        text-align: right;\n",
              "    }\n",
              "</style>\n",
              "<table border=\"1\" class=\"dataframe\">\n",
              "  <thead>\n",
              "    <tr style=\"text-align: right;\">\n",
              "      <th></th>\n",
              "      <th>parametr_name</th>\n",
              "      <th>parametr_value</th>\n",
              "      <th>parametres</th>\n",
              "      <th>accuracy</th>\n",
              "    </tr>\n",
              "  </thead>\n",
              "  <tbody>\n",
              "    <tr>\n",
              "      <th>5</th>\n",
              "      <td>min_samples_split</td>\n",
              "      <td>7</td>\n",
              "      <td>{'bootstrap': True, 'ccp_alpha': 0.0, 'class_w...</td>\n",
              "      <td>0.738095</td>\n",
              "    </tr>\n",
              "    <tr>\n",
              "      <th>6</th>\n",
              "      <td>min_samples_split</td>\n",
              "      <td>8</td>\n",
              "      <td>{'bootstrap': True, 'ccp_alpha': 0.0, 'class_w...</td>\n",
              "      <td>0.738095</td>\n",
              "    </tr>\n",
              "    <tr>\n",
              "      <th>7</th>\n",
              "      <td>min_samples_split</td>\n",
              "      <td>10</td>\n",
              "      <td>{'bootstrap': True, 'ccp_alpha': 0.0, 'class_w...</td>\n",
              "      <td>0.738095</td>\n",
              "    </tr>\n",
              "  </tbody>\n",
              "</table>\n",
              "</div>"
            ],
            "text/plain": [
              "       parametr_name  ...  accuracy\n",
              "5  min_samples_split  ...  0.738095\n",
              "6  min_samples_split  ...  0.738095\n",
              "7  min_samples_split  ...  0.738095\n",
              "\n",
              "[3 rows x 4 columns]"
            ]
          },
          "metadata": {
            "tags": []
          }
        },
        {
          "output_type": "stream",
          "text": [
            "In min_samples_split=7 best accuracy of: 0.7380952380952381\n"
          ],
          "name": "stdout"
        },
        {
          "output_type": "display_data",
          "data": {
            "image/png": "[encoded data removed]",
            "text/plain": [
              "<Figure size 432x288 with 1 Axes>"
            ]
          },
          "metadata": {
            "tags": [],
            "needs_background": "light"
          }
        },
        {
          "output_type": "display_data",
          "data": {
            "text/html": [
              "<div>\n",
              "<style scoped>\n",
              "    .dataframe tbody tr th:only-of-type {\n",
              "        vertical-align: middle;\n",
              "    }\n",
              "\n",
              "    .dataframe tbody tr th {\n",
              "        vertical-align: top;\n",
              "    }\n",
              "\n",
              "    .dataframe thead th {\n",
              "        text-align: right;\n",
              "    }\n",
              "</style>\n",
              "<table border=\"1\" class=\"dataframe\">\n",
              "  <thead>\n",
              "    <tr style=\"text-align: right;\">\n",
              "      <th></th>\n",
              "      <th>parametr_name</th>\n",
              "      <th>parametr_value</th>\n",
              "      <th>parametres</th>\n",
              "      <th>accuracy</th>\n",
              "    </tr>\n",
              "  </thead>\n",
              "  <tbody>\n",
              "    <tr>\n",
              "      <th>0</th>\n",
              "      <td>min_samples_leaf</td>\n",
              "      <td>1</td>\n",
              "      <td>{'bootstrap': True, 'ccp_alpha': 0.0, 'class_w...</td>\n",
              "      <td>0.738095</td>\n",
              "    </tr>\n",
              "  </tbody>\n",
              "</table>\n",
              "</div>"
            ],
            "text/plain": [
              "      parametr_name  ...  accuracy\n",
              "0  min_samples_leaf  ...  0.738095\n",
              "\n",
              "[1 rows x 4 columns]"
            ]
          },
          "metadata": {
            "tags": []
          }
        },
        {
          "output_type": "stream",
          "text": [
            "In min_samples_leaf=1 best accuracy of: 0.7380952380952381\n"
          ],
          "name": "stdout"
        },
        {
          "output_type": "display_data",
          "data": {
            "image/png": "[encoded data removed]",
            "text/plain": [
              "<Figure size 432x288 with 1 Axes>"
            ]
          },
          "metadata": {
            "tags": [],
            "needs_background": "light"
          }
        },
        {
          "output_type": "display_data",
          "data": {
            "text/html": [
              "<div>\n",
              "<style scoped>\n",
              "    .dataframe tbody tr th:only-of-type {\n",
              "        vertical-align: middle;\n",
              "    }\n",
              "\n",
              "    .dataframe tbody tr th {\n",
              "        vertical-align: top;\n",
              "    }\n",
              "\n",
              "    .dataframe thead th {\n",
              "        text-align: right;\n",
              "    }\n",
              "</style>\n",
              "<table border=\"1\" class=\"dataframe\">\n",
              "  <thead>\n",
              "    <tr style=\"text-align: right;\">\n",
              "      <th></th>\n",
              "      <th>parametr_name</th>\n",
              "      <th>parametr_value</th>\n",
              "      <th>parametres</th>\n",
              "      <th>accuracy</th>\n",
              "    </tr>\n",
              "  </thead>\n",
              "  <tbody>\n",
              "    <tr>\n",
              "      <th>4</th>\n",
              "      <td>n_estimators</td>\n",
              "      <td>5</td>\n",
              "      <td>{'bootstrap': True, 'ccp_alpha': 0.0, 'class_w...</td>\n",
              "      <td>0.738095</td>\n",
              "    </tr>\n",
              "  </tbody>\n",
              "</table>\n",
              "</div>"
            ],
            "text/plain": [
              "  parametr_name  ...  accuracy\n",
              "4  n_estimators  ...  0.738095\n",
              "\n",
              "[1 rows x 4 columns]"
            ]
          },
          "metadata": {
            "tags": []
          }
        },
        {
          "output_type": "stream",
          "text": [
            "In n_estimators=5 best accuracy of: 0.7380952380952381\n",
            "Best parametres of:\n",
            "------------------------------------------------------------\n",
            "{'bootstrap': True, 'ccp_alpha': 0.0, 'class_weight': None, 'criterion': 'gini', 'max_depth': 2, 'max_features': 'auto', 'max_leaf_nodes': None, 'max_samples': None, 'min_impurity_decrease': 0.0, 'min_impurity_split': None, 'min_samples_leaf': 1, 'min_samples_split': 7, 'min_weight_fraction_leaf': 0.0, 'n_estimators': 5, 'n_jobs': None, 'oob_score': False, 'random_state': 8, 'verbose': 0, 'warm_start': False}\n",
            "------------------------------------------------------------\n",
            "Best accuracy of: 0.7380952380952381\n"
          ],
          "name": "stdout"
        }
      ]
    },
    {
      "cell_type": "code",
      "metadata": {
        "colab": {
          "base_uri": "https://localhost:8080/"
        },
        "id": "gIItW7w3hORg",
        "outputId": "c986bbe2-b725-456d-b873-7627d0895629"
      },
      "source": [
        "accuracy_score(y_test, greedy.predict(X_test))"
      ],
      "execution_count": 23,
      "outputs": [
        {
          "output_type": "execute_result",
          "data": {
            "text/plain": [
              "0.7380952380952381"
            ]
          },
          "metadata": {
            "tags": []
          },
          "execution_count": 23
        }
      ]
    },
    {
      "cell_type": "markdown",
      "metadata": {
        "id": "g_2hIIlgMu7X"
      },
      "source": [
        "### Grid Search and Random Search"
      ]
    },
    {
      "cell_type": "markdown",
      "metadata": {
        "id": "rqddR_6KMu7Y"
      },
      "source": [
        "If you have enough computational power for model training in a reasonable amount of time more sophisticated approach of hyperparameter tuning would be either Grid Search or Random Search.<br>\n",
        "\n",
        "In a nutshell Grid Search allows you to pass through all different combinations of given model parameters and their values and choose the best combination. Whereas Random Search would randomly choose values for given model parameters and evaluate them on test data untill it reaches the specified number of iterations.<br>\n",
        "\n",
        "More information here [Gentle introduction to Grid and Random search](https://medium.com/@senapati.dipak97/grid-search-vs-random-search-d34c92946318) and here [Detailed Explanation with code examples](https://machinelearningmastery.com/hyperparameter-optimization-with-random-search-and-grid-search/)."
      ]
    },
    {
      "cell_type": "markdown",
      "metadata": {
        "id": "PajY1GaDMu7Y"
      },
      "source": [
        "![grid_random_search.png](attachment:grid_random_search.png)"
      ]
    },
    {
      "cell_type": "markdown",
      "metadata": {
        "id": "RaXdyeBZMu7Y"
      },
      "source": [
        "**Task 3 (1 point)**. Compare your previous results with [GridSearch](https://scikit-learn.org/stable/modules/generated/sklearn.model_selection.GridSearchCV.html) hyperparameter tuning. You may tune best hyperparameters for forest with several trees and then increase it while measure the quality on validation dataset."
      ]
    },
    {
      "cell_type": "code",
      "metadata": {
        "id": "bLSZGKXb4yW5"
      },
      "source": [
        "from sklearn.model_selection import GridSearchCV"
      ],
      "execution_count": 24,
      "outputs": []
    },
    {
      "cell_type": "code",
      "metadata": {
        "id": "COv62PHFMu7Y"
      },
      "source": [
        "classifier = RandomForestClassifier(random_state=8)\r\n",
        "gscv = GridSearchCV(classifier, parametres, verbose=1, n_jobs=-1)"
      ],
      "execution_count": 25,
      "outputs": []
    },
    {
      "cell_type": "code",
      "metadata": {
        "id": "Ap58Tduo53JM",
        "colab": {
          "base_uri": "https://localhost:8080/"
        },
        "outputId": "e827efe6-7102-4fbe-e958-4f49c7cbec88"
      },
      "source": [
        "gscv.fit(X_train, y_train)"
      ],
      "execution_count": 26,
      "outputs": [
        {
          "output_type": "stream",
          "text": [
            "Fitting 5 folds for each of 12000 candidates, totalling 60000 fits\n"
          ],
          "name": "stdout"
        },
        {
          "output_type": "stream",
          "text": [
            "[Parallel(n_jobs=-1)]: Using backend LokyBackend with 2 concurrent workers.\n",
            "[Parallel(n_jobs=-1)]: Done 202 tasks      | elapsed:    7.4s\n",
            "[Parallel(n_jobs=-1)]: Done 1402 tasks      | elapsed:   47.3s\n",
            "[Parallel(n_jobs=-1)]: Done 3402 tasks      | elapsed:  1.9min\n",
            "[Parallel(n_jobs=-1)]: Done 6202 tasks      | elapsed:  3.5min\n",
            "[Parallel(n_jobs=-1)]: Done 9802 tasks      | elapsed:  5.5min\n",
            "[Parallel(n_jobs=-1)]: Done 14202 tasks      | elapsed:  8.0min\n",
            "[Parallel(n_jobs=-1)]: Done 19402 tasks      | elapsed: 10.9min\n",
            "[Parallel(n_jobs=-1)]: Done 25402 tasks      | elapsed: 14.3min\n",
            "[Parallel(n_jobs=-1)]: Done 32202 tasks      | elapsed: 18.1min\n",
            "[Parallel(n_jobs=-1)]: Done 39802 tasks      | elapsed: 22.4min\n",
            "[Parallel(n_jobs=-1)]: Done 48202 tasks      | elapsed: 27.2min\n",
            "[Parallel(n_jobs=-1)]: Done 57402 tasks      | elapsed: 32.4min\n",
            "[Parallel(n_jobs=-1)]: Done 60000 out of 60000 | elapsed: 33.9min finished\n"
          ],
          "name": "stderr"
        },
        {
          "output_type": "execute_result",
          "data": {
            "text/plain": [
              "GridSearchCV(cv=None, error_score=nan,\n",
              "             estimator=RandomForestClassifier(bootstrap=True, ccp_alpha=0.0,\n",
              "                                              class_weight=None,\n",
              "                                              criterion='gini', max_depth=None,\n",
              "                                              max_features='auto',\n",
              "                                              max_leaf_nodes=None,\n",
              "                                              max_samples=None,\n",
              "                                              min_impurity_decrease=0.0,\n",
              "                                              min_impurity_split=None,\n",
              "                                              min_samples_leaf=1,\n",
              "                                              min_samples_split=2,\n",
              "                                              min_weight_fraction_leaf=0.0,\n",
              "                                              n_estimators=100, n_jobs=No...\n",
              "                         'max_depth': array([1, 2, 3]),\n",
              "                         'min_samples_leaf': array([1, 2, 3, 4, 5]),\n",
              "                         'min_samples_split': array([ 2,  3,  4,  5,  6,  7,  8, 10]),\n",
              "                         'n_estimators': array([ 1,  2,  3,  4,  5,  6,  7,  8,  9, 10, 11, 12, 13, 14, 15, 16, 17,\n",
              "       18, 19, 20, 21, 22, 23, 24, 25, 26, 27, 28, 29, 30, 31, 32, 33, 34,\n",
              "       35, 36, 37, 38, 39, 40, 41, 42, 43, 44, 45, 46, 47, 48, 49, 50])},\n",
              "             pre_dispatch='2*n_jobs', refit=True, return_train_score=False,\n",
              "             scoring=None, verbose=1)"
            ]
          },
          "metadata": {
            "tags": []
          },
          "execution_count": 26
        }
      ]
    },
    {
      "cell_type": "code",
      "metadata": {
        "id": "DogQXKi87cEa",
        "colab": {
          "base_uri": "https://localhost:8080/"
        },
        "outputId": "f667fc47-42d6-4635-d45f-37bc807dde4f"
      },
      "source": [
        "best_est = gscv.best_estimator_\r\n",
        "best_est.fit(X_train, y_train)\r\n",
        "accuracy_score(y_test, best_est.predict(X_test))"
      ],
      "execution_count": 27,
      "outputs": [
        {
          "output_type": "execute_result",
          "data": {
            "text/plain": [
              "0.7142857142857143"
            ]
          },
          "metadata": {
            "tags": []
          },
          "execution_count": 27
        }
      ]
    },
    {
      "cell_type": "markdown",
      "metadata": {
        "id": "gcZT1PFrMu7Y"
      },
      "source": [
        "**Task 4 (1 point)**. And finally tune forest hyperparameters with [RandomSearch](https://scikit-learn.org/stable/modules/generated/sklearn.model_selection.RandomizedSearchCV.html). Compare results to previous attempts."
      ]
    },
    {
      "cell_type": "code",
      "metadata": {
        "id": "JkxU2229Evi4"
      },
      "source": [
        "from sklearn.model_selection import RandomizedSearchCV"
      ],
      "execution_count": 28,
      "outputs": []
    },
    {
      "cell_type": "code",
      "metadata": {
        "id": "eZOeU7mREvjB"
      },
      "source": [
        "classifier = RandomForestClassifier(random_state=8)\r\n",
        "rscv = RandomizedSearchCV(classifier, parametres, verbose=1, n_jobs=-1, n_iter = 1000)"
      ],
      "execution_count": 29,
      "outputs": []
    },
    {
      "cell_type": "code",
      "metadata": {
        "colab": {
          "base_uri": "https://localhost:8080/"
        },
        "id": "0RkQw8WKEvjC",
        "outputId": "1e013094-5034-48c3-a870-88f1146b7d7e"
      },
      "source": [
        "rscv.fit(X_train, y_train)"
      ],
      "execution_count": 30,
      "outputs": [
        {
          "output_type": "stream",
          "text": [
            "Fitting 5 folds for each of 1000 candidates, totalling 5000 fits\n"
          ],
          "name": "stdout"
        },
        {
          "output_type": "stream",
          "text": [
            "[Parallel(n_jobs=-1)]: Using backend LokyBackend with 2 concurrent workers.\n",
            "[Parallel(n_jobs=-1)]: Done 164 tasks      | elapsed:    5.5s\n",
            "[Parallel(n_jobs=-1)]: Done 764 tasks      | elapsed:   24.3s\n",
            "[Parallel(n_jobs=-1)]: Done 1764 tasks      | elapsed:   59.0s\n",
            "[Parallel(n_jobs=-1)]: Done 3164 tasks      | elapsed:  1.8min\n",
            "[Parallel(n_jobs=-1)]: Done 4964 tasks      | elapsed:  2.8min\n",
            "[Parallel(n_jobs=-1)]: Done 5000 out of 5000 | elapsed:  2.8min finished\n"
          ],
          "name": "stderr"
        },
        {
          "output_type": "execute_result",
          "data": {
            "text/plain": [
              "RandomizedSearchCV(cv=None, error_score=nan,\n",
              "                   estimator=RandomForestClassifier(bootstrap=True,\n",
              "                                                    ccp_alpha=0.0,\n",
              "                                                    class_weight=None,\n",
              "                                                    criterion='gini',\n",
              "                                                    max_depth=None,\n",
              "                                                    max_features='auto',\n",
              "                                                    max_leaf_nodes=None,\n",
              "                                                    max_samples=None,\n",
              "                                                    min_impurity_decrease=0.0,\n",
              "                                                    min_impurity_split=None,\n",
              "                                                    min_samples_leaf=1,\n",
              "                                                    min_samples_split=2,\n",
              "                                                    min_weight_fraction_leaf=0.0,\n",
              "                                                    n_estimators=100,\n",
              "                                                    n_j...\n",
              "                                        'min_samples_leaf': array([1, 2, 3, 4, 5]),\n",
              "                                        'min_samples_split': array([ 2,  3,  4,  5,  6,  7,  8, 10]),\n",
              "                                        'n_estimators': array([ 1,  2,  3,  4,  5,  6,  7,  8,  9, 10, 11, 12, 13, 14, 15, 16, 17,\n",
              "       18, 19, 20, 21, 22, 23, 24, 25, 26, 27, 28, 29, 30, 31, 32, 33, 34,\n",
              "       35, 36, 37, 38, 39, 40, 41, 42, 43, 44, 45, 46, 47, 48, 49, 50])},\n",
              "                   pre_dispatch='2*n_jobs', random_state=None, refit=True,\n",
              "                   return_train_score=False, scoring=None, verbose=1)"
            ]
          },
          "metadata": {
            "tags": []
          },
          "execution_count": 30
        }
      ]
    },
    {
      "cell_type": "code",
      "metadata": {
        "colab": {
          "base_uri": "https://localhost:8080/"
        },
        "id": "xqdZFdnXEvjD",
        "outputId": "2e9ee04b-bfb7-486a-b5f5-ec0ffdd89325"
      },
      "source": [
        "best_est = rscv.best_estimator_\r\n",
        "best_est.fit(X_train, y_train)\r\n",
        "accuracy_score(y_test, best_est.predict(X_test))"
      ],
      "execution_count": 31,
      "outputs": [
        {
          "output_type": "execute_result",
          "data": {
            "text/plain": [
              "0.6428571428571429"
            ]
          },
          "metadata": {
            "tags": []
          },
          "execution_count": 31
        }
      ]
    },
    {
      "cell_type": "markdown",
      "metadata": {
        "id": "ZizP25e4Mu7Z"
      },
      "source": [
        "**Task 5 (0.5 points)**. Tell us about your experience in hyperparameter tuning with the approaches above. What do you think would be the best option for this task and why?"
      ]
    },
    {
      "cell_type": "markdown",
      "metadata": {
        "id": "ir1hcYHDMu7Z"
      },
      "source": [
        "The selection of parameters is a very time-consuming and resource-consuming task, so I had to greatly reduce the number of training samples and the number of selected parameters for training purposes. The greedy method of selecting parameters can be effective for large datasets. But this method is sensitive to the local maximum and may not give the best result. The Grid method is insensitive to the local maximum, but it is very resource-intensive (I ran into a lack of memory) and time-consuming. At the same time, in my case, the result was worse than the greedy method. This can be explained by the fact that the algorithm found the best solution in the training sample, but the solution was retrained and did not work well in the test sample. This is also due to the smaller size of the training sample (which was deliberately reduced for training purposes). The random selection method can work well and find the maximum that was not considered in GridSearch, while RandomizedSearch is random in nature, depends on the number of iterations and is quite resource-intensive and time-consuming, but it can achieve good results with smaller iterations than GridSearch"
      ]
    },
    {
      "cell_type": "markdown",
      "metadata": {
        "id": "PoCwY6x7Mu7Z"
      },
      "source": [
        "### Desicion tree explained"
      ]
    },
    {
      "cell_type": "markdown",
      "metadata": {
        "id": "RSh0hkfCMu7Z"
      },
      "source": [
        "Remember the [Titanic](https://www.kaggle.com/c/titanic) competition from last week? Wouldn't be a good idea to visualize one of possible desicion-making processes of _survived_ / _dead_ labeling?"
      ]
    },
    {
      "cell_type": "markdown",
      "metadata": {
        "id": "IFOTF6SPMu7a"
      },
      "source": [
        "**Task 6 (1 point)**. Load titanic dataset, split it into train/test parts, apply simple hyperparameter tuning of [DesicionTreeClassifier](https://scikit-learn.org/stable/modules/generated/sklearn.tree.DecisionTreeClassifier.html) (use one of the approaches above) in order to have **test accuracy more than 0.65**. <br>\n",
        "\n",
        "Draw the best tree decision making process. You may use [sklearn.tree.prot_tree](https://scikit-learn.org/stable/modules/generated/sklearn.tree.plot_tree.html).<br>"
      ]
    },
    {
      "cell_type": "code",
      "metadata": {
        "id": "5wandL5EMu7a"
      },
      "source": [
        "from sklearn.tree import DecisionTreeClassifier\n",
        "\n",
        "# your code here"
      ],
      "execution_count": 32,
      "outputs": []
    },
    {
      "cell_type": "markdown",
      "metadata": {
        "id": "naMJwLPWMu7a"
      },
      "source": [
        "Is it easy to interpret its results? Are you able to explain to a random person why would he survive / die on the titanic?"
      ]
    },
    {
      "cell_type": "markdown",
      "metadata": {
        "id": "kwaU2qw-Mu7a"
      },
      "source": [
        "# Homework part 2. RandomForestRegressor"
      ]
    },
    {
      "cell_type": "markdown",
      "metadata": {
        "id": "toYn1G3pMu7a"
      },
      "source": [
        "**Task 7 (2 points)**. Write your own *DecisionTreeRegressor* class with _MSE_ split criterion and settable parameter *max_depth*. Demonstrate its consistency on the proposed artificial data (or some other) by comparing MSE of train predictions with [sklearn.tree.DecisionTreeRegressor](https://scikit-learn.org/stable/modules/generated/sklearn.tree.DecisionTreeRegressor.html). <br>\n",
        "\n",
        "Provide examples for different _max_depth_ parameter.\n",
        "\n",
        "Of course you may re-use code for *DecisionTreeClassifier*. You need to figure out what needs to be changed in it for Classification -> Regression transformation.<br>\n",
        "\n",
        "**! You are allowed to use only NumPy library** in this assigment."
      ]
    },
    {
      "cell_type": "code",
      "metadata": {
        "id": "uEMSpdn5vlPi"
      },
      "source": [
        "from sklearn.tree import DecisionTreeRegressor\r\n",
        "from sklearn.metrics import mean_squared_error"
      ],
      "execution_count": 33,
      "outputs": []
    },
    {
      "cell_type": "code",
      "metadata": {
        "id": "W638G1QrMu7a"
      },
      "source": [
        "import numpy as np\n",
        "\n",
        "def f(X):\n",
        "    return X[:, 0]**3 + np.log(np.exp(X[:, 1]) + np.exp(X[:, 2])) + np.sqrt(abs(X[:, 3])) * X[:, 4]\n",
        "\n",
        "n_samples = 100\n",
        "\n",
        "stdv = 1. / np.sqrt(5)\n",
        "\n",
        "X = np.random.uniform(-stdv, stdv, size = (n_samples, 5))\n",
        "y = f(X)"
      ],
      "execution_count": 34,
      "outputs": []
    },
    {
      "cell_type": "code",
      "metadata": {
        "id": "kcUUO7uuMu7b"
      },
      "source": [
        "class TreeRegressor(object):\r\n",
        "    def __init__(self, criterion=None):\r\n",
        "        self.impurity = None\r\n",
        "        self.threshold = None\r\n",
        "        self.column_index = None\r\n",
        "        self.outcome_probs = None\r\n",
        "        self.criterion = criterion\r\n",
        "        self.left_child = None\r\n",
        "        self.right_child = None\r\n",
        "\r\n",
        "    @property\r\n",
        "    def is_terminal(self):\r\n",
        "        \"\"\" Define is it terminal node\r\n",
        "        \"\"\"          \r\n",
        "        return not bool(self.left_child and self.right_child)\r\n",
        "\r\n",
        "    def _find_splits(self, X):\r\n",
        "        \"\"\"Find all possible split values.\"\"\"\r\n",
        "        split_values = set()\r\n",
        "\r\n",
        "        # Get unique values in a sorted order\r\n",
        "        x_unique = list(np.unique(X))\r\n",
        "        for i in range(1, len(x_unique)):\r\n",
        "            # Find a point between two values\r\n",
        "            average = (x_unique[i - 1] + x_unique[i]) / 2.0\r\n",
        "            split_values.add(average)\r\n",
        "\r\n",
        "        return list(split_values)\r\n",
        "\r\n",
        "    def _find_best_split(self, X, y, n_features):\r\n",
        "        \"\"\"Find best feature and value for a split. Greedy algorithm.\"\"\"\r\n",
        "\r\n",
        "        # Sample random subset of features\r\n",
        "        subset = random.sample(list(range(0, X.shape[1])), n_features)\r\n",
        "        max_gain, max_col, max_val = None, None, None\r\n",
        "\r\n",
        "        for column in subset:\r\n",
        "            split_values = self._find_splits(X[:, column])\r\n",
        "            for value in split_values:\r\n",
        "                splits = split(X[:, column], y, value)\r\n",
        "                gain = self.criterion(y, splits)\r\n",
        "\r\n",
        "                if (max_gain is None) or (gain > max_gain):\r\n",
        "                    max_col, max_val, max_gain = column, value, gain\r\n",
        "        return max_col, max_val, max_gain\r\n",
        "\r\n",
        "    def fit(self, X, y, n_features=None, max_depth=None):\r\n",
        "        \"\"\"Fit model.\r\n",
        "\r\n",
        "        Args:\r\n",
        "            X (numpy-array): The training input samples. 2-dimensional numpy array.\r\n",
        "            y (numpy-array): The target values. 1-dimensional numpy array.\r\n",
        "            n_features (int): The number of features when fit is performed (default: all features)\r\n",
        "            max_depth (int): The maximum depth of the tree. If None, then nodes are expanded until\r\n",
        "                             all leaves are pure.\r\n",
        "        \"\"\"        \r\n",
        "        try:\r\n",
        "            # Exit from recursion using assert syntax\r\n",
        "            assert max_depth > 0\r\n",
        "\r\n",
        "            if n_features is None:\r\n",
        "                n_features = X.shape[1]\r\n",
        "\r\n",
        "            column, value, gain = self._find_best_split(X, y, n_features)\r\n",
        "            assert gain is not None\r\n",
        "            assert gain != 0\r\n",
        "\r\n",
        "            self.column_index = column\r\n",
        "            self.threshold = value\r\n",
        "            self.impurity = gain\r\n",
        "\r\n",
        "            # Split dataset\r\n",
        "            left_X, right_X, left_target, right_target = split_dataset(X, y, column, value)\r\n",
        "\r\n",
        "            # Grow left and right child\r\n",
        "            self.left_child = Tree(self.criterion)\r\n",
        "            self.left_child.fit(left_X, left_target, n_features, max_depth)\r\n",
        "\r\n",
        "            self.right_child = Tree(self.criterion)\r\n",
        "            self.right_child.fit(right_X, right_target, n_features, max_depth)\r\n",
        "        except AssertionError:\r\n",
        "            self.outcome_probs = np.mean(y)\r\n",
        "\r\n",
        "\r\n",
        "    def predict_row(self, row):\r\n",
        "        \"\"\"Predict single row.\"\"\"\r\n",
        "        if not self.is_terminal:\r\n",
        "            if row[self.column_index] < self.threshold:\r\n",
        "                return self.left_child.predict_row(row)\r\n",
        "            else:\r\n",
        "                return self.right_child.predict_row(row)\r\n",
        "        return self.outcome_probs\r\n",
        "\r\n",
        "    def predict(self, X):\r\n",
        "        \"\"\"Make predictions.\r\n",
        "\r\n",
        "        Args:\r\n",
        "            X (numpy-array): The test input samples. 2-dimensional numpy array.\r\n",
        "        \"\"\"  \r\n",
        "        result = np.zeros(X.shape[0])\r\n",
        "        for i in range(X.shape[0]):\r\n",
        "            result[i] = self.predict_row(X[i, :])\r\n",
        "        return result"
      ],
      "execution_count": 91,
      "outputs": []
    },
    {
      "cell_type": "code",
      "metadata": {
        "id": "D1peAFxYv6kk"
      },
      "source": [
        "def mse(y, splits):\r\n",
        "    y_mean = np.mean(y)\r\n",
        "    return -sum([np.sum((split - y_mean) ** 2) * (float(split.shape[0]) / y.shape[0]) for split in splits])"
      ],
      "execution_count": 101,
      "outputs": []
    },
    {
      "cell_type": "code",
      "metadata": {
        "id": "5QTUAYWCyp2A"
      },
      "source": [
        "def print_result(c_tree = TreeRegressor(mse), sk_tree = DecisionTreeRegressor(), fit_max_depth=True):\r\n",
        "  result = pd.DataFrame(columns=['max_depth', 'mse', 'tree'])\r\n",
        "  for i in range(1, 8):\r\n",
        "    if fit_max_depth:\r\n",
        "      c_tree.fit(X, y, max_depth=i)\r\n",
        "    else:\r\n",
        "      c_tree.max_depth = i\r\n",
        "      c_tree.fit(X, y)\r\n",
        "    result = result.append({'max_depth':i, 'mse':mean_squared_error(y, c_tree.predict(X)), 'tree':'custom_tree'}, ignore_index=True)\r\n",
        "    sk_tree.max_depth = i\r\n",
        "    sk_tree.fit(X, y)\r\n",
        "    result = result.append({'max_depth':i, 'mse':mean_squared_error(y, sk_tree.predict(X)), 'tree':'sklearn_tree'}, ignore_index=True)\r\n",
        "  lp = sb.lineplot(data=result, x='max_depth', y='mse', hue='tree')\r\n",
        "  plt.show()"
      ],
      "execution_count": 113,
      "outputs": []
    },
    {
      "cell_type": "code",
      "metadata": {
        "colab": {
          "base_uri": "https://localhost:8080/",
          "height": 282
        },
        "id": "3Uk9fsfaM0pE",
        "outputId": "653372d5-fad2-4c37-99ab-a9442e225695"
      },
      "source": [
        "print_result()"
      ],
      "execution_count": 108,
      "outputs": [
        {
          "output_type": "display_data",
          "data": {
            "image/png": "[encoded data removed]",
            "text/plain": [
              "<Figure size 432x288 with 1 Axes>"
            ]
          },
          "metadata": {
            "tags": [],
            "needs_background": "light"
          }
        }
      ]
    },
    {
      "cell_type": "markdown",
      "metadata": {
        "id": "gJZV0VjsMu7b"
      },
      "source": [
        "**Task 8 (2 points)**. Write your own _RandomForestRegressor_ class with MSE split criterion and settable parameter _max_depth_.  Demonstrate its consistency on the proposed artificial data (or some other) by comparing MSE of train predictions with [sklearn.ensemble.RandomForestRegressor](https://scikit-learn.org/stable/modules/generated/sklearn.ensemble.RandomForestRegressor.html).<br>\n",
        "\n",
        "Provide examples for different max_depth parameter.<br>\n",
        "\n",
        "**! You are allowed to use only NumPy library** in this assigment."
      ]
    },
    {
      "cell_type": "code",
      "metadata": {
        "id": "Gw-gk0DCSX1E"
      },
      "source": [
        "from sklearn.ensemble import RandomForestRegressor"
      ],
      "execution_count": 109,
      "outputs": []
    },
    {
      "cell_type": "code",
      "metadata": {
        "id": "bTkQAsa2Mu7b"
      },
      "source": [
        "class CustomRandomForestRegressor(object):\r\n",
        "\r\n",
        "    def __init__(self, n_estimators=100, max_depth=None, n_features=None, criterion=mse, bootstrap=True):\r\n",
        "        self.criterion = criterion\r\n",
        "        self.n_estimators = n_estimators\r\n",
        "        self.max_depth = max_depth\r\n",
        "        self.n_features = n_features\r\n",
        "        self.bootstrap = bootstrap\r\n",
        "        self.trees = [] \r\n",
        "        for _ in range(n_estimators):\r\n",
        "            self.trees.append(TreeRegressor(criterion=self.criterion))\r\n",
        "        \r\n",
        "    def _init_data(self, X, y):\r\n",
        "        self.size = len(X)\r\n",
        "        \r\n",
        "        if not isinstance(X, np.ndarray):\r\n",
        "            self.X = np.array(X)\r\n",
        "        else:\r\n",
        "            self.X = X\r\n",
        "\r\n",
        "        if not isinstance(y, np.ndarray):\r\n",
        "            self.y = np.array(y)\r\n",
        "        else:\r\n",
        "            self.y = y\r\n",
        "            \r\n",
        "    def bootstrap_data(self, size):\r\n",
        "        return np.random.randint(size, size=size)\r\n",
        "    \r\n",
        "    def fit(self, X, y):       \r\n",
        "        if self.n_features is None:\r\n",
        "            self.n_features = int(np.sqrt(X.shape[1]))\r\n",
        "        elif X.shape[1] < self.n_features:\r\n",
        "            raise ValueError(f\"'n_features should be <= n_features'\")\r\n",
        "            \r\n",
        "        self._init_data(X, y)\r\n",
        "        \r\n",
        "        for tree in self.trees:\r\n",
        "            if self.bootstrap:\r\n",
        "                idxs = self.bootstrap_data(self.size)\r\n",
        "                X = self.X[idxs]\r\n",
        "                y = self.y[idxs]\r\n",
        "            else:\r\n",
        "                X = self.X\r\n",
        "                y = self.y\r\n",
        "                \r\n",
        "            tree.fit(\r\n",
        "                X,\r\n",
        "                y,\r\n",
        "                n_features=self.n_features,\r\n",
        "                max_depth=self.max_depth\r\n",
        "            )\r\n",
        "            \r\n",
        "    def predict(self, X):        \r\n",
        "        if not isinstance(X, np.ndarray):\r\n",
        "            X = np.array(X)\r\n",
        "\r\n",
        "        if self.X is not None:\r\n",
        "            predictions = np.zeros((X.shape[0], self.n_estimators))\r\n",
        "            for i, tree in enumerate(self.trees):\r\n",
        "                predictions[:, i] = tree.predict(X)\r\n",
        "            return predictions.mean(axis=1)\r\n",
        "        else:\r\n",
        "            raise ValueError(\"You should fit a model before `predict`\")"
      ],
      "execution_count": 115,
      "outputs": []
    },
    {
      "cell_type": "code",
      "metadata": {
        "colab": {
          "base_uri": "https://localhost:8080/",
          "height": 280
        },
        "id": "JtS6-_WjSiRR",
        "outputId": "cc166aab-5c12-4d7d-fc6c-63a6cbbdffd9"
      },
      "source": [
        "print_result(CustomRandomForestRegressor(), RandomForestRegressor(), fit_max_depth=False)"
      ],
      "execution_count": 116,
      "outputs": [
        {
          "output_type": "display_data",
          "data": {
            "image/png": "[encoded data removed]",
            "text/plain": [
              "<Figure size 432x288 with 1 Axes>"
            ]
          },
          "metadata": {
            "tags": [],
            "needs_background": "light"
          }
        }
      ]
    },
    {
      "cell_type": "markdown",
      "metadata": {
        "id": "1ZrFayWzMu7c"
      },
      "source": [
        "# Homework part 3 (bonus). Speeding up forest training process"
      ]
    },
    {
      "cell_type": "markdown",
      "metadata": {
        "id": "jirHK403Mu7c"
      },
      "source": [
        "**Task 9 (3 points)** Devise a way to speed up training against the default version of our custom _RandomForestClassifier_ or your own _RandomForestRegressor_. You may want use [`joblib`](https://joblib.readthedocs.io/en/latest/) for parallelizing trees training. Provide graphs of time dependences on the number of trees in your _fast_ version with different number of cores / threads used against default one."
      ]
    },
    {
      "cell_type": "code",
      "metadata": {
        "id": "leRjfgGGMu7c"
      },
      "source": [
        "import time"
      ],
      "execution_count": 121,
      "outputs": []
    },
    {
      "cell_type": "code",
      "metadata": {
        "id": "X_Vyu-9nuVV5"
      },
      "source": [
        "def test_jobs(n_jobs=1):\r\n",
        "  regressor = RandomForestRegressor(n_jobs = n_jobs)\r\n",
        "\r\n",
        "  start_time = time.time()\r\n",
        "  regressor.fit(X, y)\r\n",
        "  print(f\"{time.time() - start_time} seconds in {n_jobs} jobs\")"
      ],
      "execution_count": 126,
      "outputs": []
    },
    {
      "cell_type": "code",
      "metadata": {
        "colab": {
          "base_uri": "https://localhost:8080/"
        },
        "id": "VruejJh7vUL8",
        "outputId": "6d0920b1-cfe1-406a-9f5b-41e2427a2ea1"
      },
      "source": [
        "for i in range(1, 4):\r\n",
        "  test_jobs(i)"
      ],
      "execution_count": 127,
      "outputs": [
        {
          "output_type": "stream",
          "text": [
            "0.14113068580627441 seconds in 1 jobs\n",
            "0.10820757865905762 seconds in 2 jobs\n",
            "0.1190296459197998 seconds in 3 jobs\n"
          ],
          "name": "stdout"
        }
      ]
    }
  ]
}